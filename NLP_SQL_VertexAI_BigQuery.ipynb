{
  "nbformat": 4,
  "nbformat_minor": 0,
  "metadata": {
    "colab": {
      "provenance": [],
      "include_colab_link": true
    },
    "kernelspec": {
      "name": "python3",
      "display_name": "Python 3"
    },
    "language_info": {
      "name": "python"
    }
  },
  "cells": [
    {
      "cell_type": "markdown",
      "metadata": {
        "id": "view-in-github",
        "colab_type": "text"
      },
      "source": [
        "<a href=\"https://colab.research.google.com/github/moasifk/nlp-to-sql/blob/main/NLP_SQL_VertexAI_BigQuery.ipynb\" target=\"_parent\"><img src=\"https://colab.research.google.com/assets/colab-badge.svg\" alt=\"Open In Colab\"/></a>"
      ]
    },
    {
      "cell_type": "markdown",
      "source": [
        "# Dependencies"
      ],
      "metadata": {
        "id": "JC-MmNMBhJoF"
      }
    },
    {
      "cell_type": "code",
      "execution_count": null,
      "metadata": {
        "collapsed": true,
        "id": "_FIuEcjrB85K"
      },
      "outputs": [],
      "source": [
        "! pip install langchain==0.0.340 --quiet\n",
        "! pip install chromadb==0.4.13 --quiet\n",
        "! pip install google-cloud-bigquery[pandas] --quiet\n",
        "! pip install google-cloud-aiplatform --quiet"
      ]
    },
    {
      "cell_type": "markdown",
      "source": [
        "# Vertex configuration"
      ],
      "metadata": {
        "id": "fIKfW9zEUtLZ"
      }
    },
    {
      "cell_type": "code",
      "source": [
        "VERTEX_PROJECT = \"YOUR_PROJECT_ID_HERE\" # @param{type: \"string\"}\n",
        "VERTEX_REGION = \"us-central1\" # @param{type: \"string\"}"
      ],
      "metadata": {
        "cellView": "form",
        "id": "YqvnALApSYA-"
      },
      "execution_count": null,
      "outputs": []
    },
    {
      "cell_type": "markdown",
      "source": [
        "# BigQuery configuration\n",
        "\n",
        "Don't change these options. These are the public datasets used in this workshop."
      ],
      "metadata": {
        "id": "j3AiF1f2Uxu6"
      }
    },
    {
      "cell_type": "code",
      "source": [
        "BIGQUERY_DATASET = \"noaa_tsunami\" # @param{type: \"string\"}\n",
        "BIGQUERY_PROJECT = \"bigquery-public-data\" # @param{type: \"string\"}"
      ],
      "metadata": {
        "cellView": "form",
        "id": "Hk57x-JuSbCP"
      },
      "execution_count": null,
      "outputs": []
    },
    {
      "cell_type": "markdown",
      "source": [
        "# Authentication"
      ],
      "metadata": {
        "id": "qqUs77DoU0Ho"
      }
    },
    {
      "cell_type": "code",
      "source": [
        "from google.colab import auth\n",
        "auth.authenticate_user()\n",
        "\n",
        "import vertexai\n",
        "vertexai.init(project=VERTEX_PROJECT, location=VERTEX_REGION)"
      ],
      "metadata": {
        "id": "wXnPJNPnVRbK"
      },
      "execution_count": null,
      "outputs": []
    },
    {
      "cell_type": "markdown",
      "source": [
        "# Schemas as context for the prompt"
      ],
      "metadata": {
        "id": "VRZNjRJ4buAp"
      }
    },
    {
      "cell_type": "code",
      "source": [
        "from google.cloud import bigquery\n",
        "import json\n",
        "\n",
        "bq_client = bigquery.Client(project=VERTEX_PROJECT)\n",
        "bq_tables = bq_client.list_tables(dataset=f\"{BIGQUERY_PROJECT}.{BIGQUERY_DATASET}\")\n",
        "schemas = []\n",
        "for bq_table in bq_tables:\n",
        "   t = bq_client.get_table(f\"{BIGQUERY_PROJECT}.{BIGQUERY_DATASET}.{bq_table.table_id}\")\n",
        "   schema_fields = [f.to_api_repr() for f in t.schema]\n",
        "   schema = f\"The schema for table {bq_table.table_id} is the following: \\n```{json.dumps(schema_fields, indent=1)}```\"\n",
        "   schemas.append(schema)\n",
        "\n",
        "print(f\"Found {len(schemas)} tables in dataset {BIGQUERY_PROJECT}:{BIGQUERY_DATASET}\")"
      ],
      "metadata": {
        "id": "YKt25sJNV0zW"
      },
      "execution_count": null,
      "outputs": []
    },
    {
      "cell_type": "markdown",
      "source": [
        "# Vector store\n",
        "\n",
        "We add the schemas as documents to a vector store, to be added to the prompt later.\n",
        "\n",
        "We will retrieve only one document from the store for the prompt: the most relevant doc."
      ],
      "metadata": {
        "id": "DpmSCQ7QZSAY"
      }
    },
    {
      "cell_type": "code",
      "source": [
        "from langchain.embeddings import VertexAIEmbeddings\n",
        "from langchain.vectorstores import Chroma\n",
        "\n",
        "embeddings = VertexAIEmbeddings()\n",
        "try: # Avoid duplicated documents\n",
        "  vector_store.delete_collection()\n",
        "except:\n",
        "  print(\"No need to clean the vector store\")\n",
        "vector_store = Chroma.from_texts(schemas, embedding=embeddings)\n",
        "n_docs = len(vector_store.get()['ids'])\n",
        "retriever = vector_store.as_retriever(search_kwargs={'k': 1})\n",
        "print(f\"The vector store has {n_docs} documents\")"
      ],
      "metadata": {
        "id": "rd-NuT9McjDd"
      },
      "execution_count": null,
      "outputs": []
    },
    {
      "cell_type": "markdown",
      "source": [
        "# Models"
      ],
      "metadata": {
        "id": "mY8OpGPMyeWZ"
      }
    },
    {
      "cell_type": "code",
      "source": [
        "from langchain.chat_models import ChatVertexAI\n",
        "from langchain.llms import VertexAI\n",
        "\n",
        "query_model = ChatVertexAI(model_name=\"codechat-bison\", max_output_tokens=2048)\n",
        "interpret_data_model = ChatVertexAI(max_output_tokens=2048)\n",
        "agent_model = ChatVertexAI(max_output_tokens=1024)"
      ],
      "metadata": {
        "id": "MD08GTeYyftN"
      },
      "execution_count": null,
      "outputs": []
    },
    {
      "cell_type": "markdown",
      "source": [
        "# Get a SQL query chain"
      ],
      "metadata": {
        "id": "kTJX0iLTwmcM"
      }
    },
    {
      "cell_type": "code",
      "source": [
        "SQL_PROMPT = \"\"\"You are a SQL and BigQuery expert.\n",
        "\n",
        "Your job is to create a query for BigQuery in SQL.\n",
        "\n",
        "The following paragraph contains the schema of the table used for a query. It is encoded in JSON format.\n",
        "\n",
        "{context}\n",
        "\n",
        "Create a BigQuery SQL query for the following user input, using the above table.\n",
        "\n",
        "The user and the agent have done this conversation so far:\n",
        "{chat_history}\n",
        "\n",
        "Follow these restrictions strictly:\n",
        "- Only return the SQL code.\n",
        "- Do not add backticks or any markup. Only write the query as output. NOTHING ELSE.\n",
        "- In FROM, always use the full table path, using `{project}` as project and `{dataset}` as dataset.\n",
        "- Always transform country names to full uppercase. For instance, if the country is Japan, you should use JAPAN in the query.\n",
        "\n",
        "User input: {question}\n",
        "\n",
        "SQL query:\n",
        "\"\"\""
      ],
      "metadata": {
        "id": "Ti1xFJdMwyh5"
      },
      "execution_count": null,
      "outputs": []
    },
    {
      "cell_type": "code",
      "source": [
        "from langchain.schema.vectorstore import VectorStoreRetriever\n",
        "def get_documents(retriever: VectorStoreRetriever, question: str) -> str:\n",
        "  # Return only the first document\n",
        "  output = \"\"\n",
        "  for d in retriever.get_relevant_documents(question):\n",
        "    output += d.page_content\n",
        "    output += \"\\n\"\n",
        "    return output"
      ],
      "metadata": {
        "id": "lHMBqcbzOa51"
      },
      "execution_count": null,
      "outputs": []
    },
    {
      "cell_type": "code",
      "source": [
        "from operator import itemgetter\n",
        "from langchain.prompts import PromptTemplate\n",
        "from langchain.schema import StrOutputParser\n",
        "\n",
        "# Write a chain of name query\n",
        "### TODO\n",
        "### TODO\n",
        "### TODO\n",
        "### TODO\n",
        "### TODO"
      ],
      "metadata": {
        "id": "ZOBYThDvGiTb"
      },
      "execution_count": null,
      "outputs": []
    },
    {
      "cell_type": "code",
      "source": [
        "from langchain.callbacks.tracers import ConsoleCallbackHandler\n",
        "# Example\n",
        "x = {\"input\": \"Which countries in Asia had more houses damaged? Give me the top 3\", \"chat_history\": \"\"}\n",
        "print(query.invoke(x, config={'callbacks': [ConsoleCallbackHandler()]}))"
      ],
      "metadata": {
        "id": "u4neRJw4HwgA",
        "collapsed": true
      },
      "execution_count": null,
      "outputs": []
    },
    {
      "cell_type": "markdown",
      "source": [
        "# Add more outputs to the previous chain"
      ],
      "metadata": {
        "id": "85Zha4ZCQFSU"
      }
    },
    {
      "cell_type": "code",
      "source": [
        "from langchain.output_parsers import ResponseSchema, StructuredOutputParser\n",
        "from langchain.schema.runnable import RunnableLambda\n",
        "\n",
        "def _dict_to_json(x: dict) -> str:\n",
        "  return \"```\\n\" + json.dumps(x) + \"\\n```\"\n",
        "\n",
        "query_response_schema = [\n",
        "    ResponseSchema(name=\"query\", description=\"SQL query to solve the user question.\"),\n",
        "    ResponseSchema(name=\"question\", description=\"Question asked by the user.\"),\n",
        "    ResponseSchema(name=\"context\", description=\"Documents retrieved from the vector store.\")\n",
        "  ]\n",
        "query_output_parser = StructuredOutputParser.from_response_schemas(query_response_schema)\n",
        "query_output_json = docs | question | {\"query\": query} | RunnableLambda(_dict_to_json) | StrOutputParser()\n",
        "query_output = query_output_json | query_output_parser"
      ],
      "metadata": {
        "id": "WEdgWhHnQJBe"
      },
      "execution_count": null,
      "outputs": []
    },
    {
      "cell_type": "code",
      "source": [
        "# Example\n",
        "x = {\"input\": \"Which countries in Asia had more houses damaged? Give me the top 3\", \"chat_history\": \"\"}\n",
        "query_output.invoke(x)  # Output is now a dictionary, input for the next chain"
      ],
      "metadata": {
        "collapsed": true,
        "id": "MCQTMjDvQXeu"
      },
      "execution_count": null,
      "outputs": []
    },
    {
      "cell_type": "markdown",
      "source": [
        "# Interpret the output chain"
      ],
      "metadata": {
        "id": "q7mvJMXqOML9"
      }
    },
    {
      "cell_type": "code",
      "source": [
        "INTERPRET_PROMPT = \"\"\"You are a BigQuery expert. You are also expert in extracting data from CSV.\n",
        "\n",
        "The following paragraph describes the schema of the table used for a query. It is encoded in JSON format.\n",
        "\n",
        "{context}\n",
        "\n",
        "A user asked this question:\n",
        "{question}\n",
        "\n",
        "To find the answer, the following SQL query was run in BigQuery:\n",
        "```\n",
        "{query}\n",
        "```\n",
        "\n",
        "The result of that query was the following table in CSV format:\n",
        "```\n",
        "{result}\n",
        "```\n",
        "\n",
        "Based on those results, provide a brief answer to the user question.\n",
        "\n",
        "Follow these restrictions strictly:\n",
        "- Do not add any explanation about how the answer is obtained, just write the answer.\n",
        "- Extract any value related to the answer only from the result of the query. Do not use any other data source.\n",
        "- Just write the answer, omit the question from your answer, this is a chat, just provide the answer.\n",
        "- If you cannot find the answer in the result, do not make up any data, just say \"I cannot find the answer\"\n",
        "\"\"\""
      ],
      "metadata": {
        "id": "TA4nJ2OTP8ej"
      },
      "execution_count": null,
      "outputs": []
    },
    {
      "cell_type": "code",
      "source": [
        "from google.cloud import bigquery\n",
        "def get_bq_csv(bq_client: bigquery.Client, query: str) -> str:\n",
        "  df = bq_client.query(query, location=\"US\").to_dataframe()\n",
        "  return df.to_csv(index=False)"
      ],
      "metadata": {
        "id": "pFeZ8zvwQAPD"
      },
      "execution_count": null,
      "outputs": []
    },
    {
      "cell_type": "code",
      "source": [
        "# Get the output of the previous chain\n",
        "\n",
        "# Write a chain of name run_bq_result\n",
        "### TODO\n",
        "### TODO\n",
        "### TODO\n",
        "### TODO\n",
        "### TODO"
      ],
      "metadata": {
        "id": "xtbGdTCDUlLz"
      },
      "execution_count": null,
      "outputs": []
    },
    {
      "cell_type": "code",
      "source": [
        "# Example\n",
        "x = {\"input\": \"Which countries in Asia had more houses damaged? Give me the top 3\", \"chat_history\": \"\"}\n",
        "print(run_bq_result.invoke(query_output.invoke(x)))"
      ],
      "metadata": {
        "id": "Rjzena1YVFwN"
      },
      "execution_count": null,
      "outputs": []
    },
    {
      "cell_type": "markdown",
      "source": [
        "# Agent: putting everything together"
      ],
      "metadata": {
        "id": "Pj3XlntDVzV2"
      }
    },
    {
      "cell_type": "code",
      "source": [
        "from langchain.memory import ConversationBufferWindowMemory\n",
        "\n",
        "agent_memory = ConversationBufferWindowMemory(\n",
        "    memory_key=\"chat_history\",\n",
        "    k=10,\n",
        "    return_messages=True)"
      ],
      "metadata": {
        "id": "E_89yVG3axiN"
      },
      "execution_count": null,
      "outputs": []
    },
    {
      "cell_type": "code",
      "source": [
        "AGENT_PROMPT = \"\"\"You are a very powerful assistant that can answer questions using BigQuery.\n",
        "\n",
        "You can invoke the tool user_question_tool to answer questions using BigQuery.\n",
        "\n",
        "You can invoke the tool Calculator if you need to do mathematical operations.\n",
        "\n",
        "Always use the tools to try to answer the questions. Use the chat history for context. Never try to use any other external information.\n",
        "\n",
        "Assume that the user may write with misspellings, fix the spelling of the user before passing the question to any tool.\n",
        "\n",
        "Don't mention what tool you have used in your answer.\n",
        "\"\"\""
      ],
      "metadata": {
        "id": "31F8tq_tXLsc"
      },
      "execution_count": null,
      "outputs": []
    },
    {
      "cell_type": "code",
      "source": [
        "from langchain import LLMMathChain\n",
        "from langchain.tools import Tool\n",
        "\n",
        "math_chain = LLMMathChain.from_llm(llm=agent_model)\n",
        "math_tool = Tool(\n",
        "  name=\"Calculator\",\n",
        "  description=\"Useful for when you need to answer questions about math.\",\n",
        "  func=math_chain.run,\n",
        "  coroutine=math_chain.arun)"
      ],
      "metadata": {
        "id": "R8X1LGzzXUcw"
      },
      "execution_count": null,
      "outputs": []
    },
    {
      "cell_type": "code",
      "source": [
        "from langchain.tools import tool\n",
        "from langchain.callbacks.tracers import ConsoleCallbackHandler\n",
        "\n",
        "@tool\n",
        "def user_question_tool(question) -> str:\n",
        "  \"\"\"Useful to answer natural language questions from users using BigQuery.\"\"\"\n",
        "  config={'callbacks': [ConsoleCallbackHandler()]}\n",
        "  memory = agent_memory.buffer_as_str.strip()\n",
        "  question = {\"input\": question, \"chat_history\": memory}\n",
        "  result = run_bq_result.invoke(query_output.invoke(question, config=config), config=config)\n",
        "  return result.strip()"
      ],
      "metadata": {
        "id": "xJ8UAYRKYC_j"
      },
      "execution_count": null,
      "outputs": []
    },
    {
      "cell_type": "code",
      "source": [
        "from langchain.agents import AgentType, initialize_agent, AgentExecutor\n",
        "\n",
        "agent_kwgards = {\"system_message\": AGENT_PROMPT}\n",
        "agent_tools = [math_tool, user_question_tool]\n",
        "\n",
        "agent_memory.clear()\n",
        "\n",
        "# Fill the missing options\n",
        "agent = initialize_agent(\n",
        "    ### TODO\n",
        "    ### TODO\n",
        "    ### TODO\n",
        "    agent_kwgards=agent_kwgards,\n",
        "    max_iterations=5,\n",
        "    early_stopping_method='generate',\n",
        "    verbose=True)"
      ],
      "metadata": {
        "id": "lkKHQn3baaEi"
      },
      "execution_count": null,
      "outputs": []
    },
    {
      "cell_type": "code",
      "source": [
        "q = \"Which countries had more houses damaged? Give me the top 3\"\n",
        "agent.invoke(x)"
      ],
      "metadata": {
        "id": "q0aM6V9BY6dv",
        "collapsed": true
      },
      "execution_count": null,
      "outputs": []
    },
    {
      "cell_type": "code",
      "source": [
        "agent_memory"
      ],
      "metadata": {
        "id": "d5oWeXVzZG1z",
        "collapsed": true
      },
      "execution_count": null,
      "outputs": []
    },
    {
      "cell_type": "code",
      "source": [
        "q = \"Of those countries, which one had more deaths?\"\n",
        "agent.invoke(q)"
      ],
      "metadata": {
        "id": "JlSyWZzTbnbG",
        "collapsed": true
      },
      "execution_count": null,
      "outputs": []
    }
  ]
}