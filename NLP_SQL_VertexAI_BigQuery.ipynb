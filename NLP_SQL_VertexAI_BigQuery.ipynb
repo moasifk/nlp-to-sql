{
  "nbformat": 4,
  "nbformat_minor": 0,
  "metadata": {
    "colab": {
      "provenance": [],
      "include_colab_link": true
    },
    "kernelspec": {
      "name": "python3",
      "display_name": "Python 3"
    },
    "language_info": {
      "name": "python"
    }
  },
  "cells": [
    {
      "cell_type": "markdown",
      "metadata": {
        "id": "view-in-github",
        "colab_type": "text"
      },
      "source": [
        "<a href=\"https://colab.research.google.com/github/moasifk/nlp-to-sql/blob/main/NLP_SQL_VertexAI_BigQuery.ipynb\" target=\"_parent\"><img src=\"https://colab.research.google.com/assets/colab-badge.svg\" alt=\"Open In Colab\"/></a>"
      ]
    },
    {
      "cell_type": "markdown",
      "source": [
        "# Dependencies"
      ],
      "metadata": {
        "id": "JC-MmNMBhJoF"
      }
    },
    {
      "cell_type": "code",
      "execution_count": 1,
      "metadata": {
        "collapsed": true,
        "id": "_FIuEcjrB85K",
        "outputId": "4813741f-d316-4d7b-c379-aad2c66243a5",
        "colab": {
          "base_uri": "https://localhost:8080/"
        }
      },
      "outputs": [
        {
          "output_type": "stream",
          "name": "stdout",
          "text": [
            "\u001b[2K     \u001b[90m━━━━━━━━━━━━━━━━━━━━━━━━━━━━━━━━━━━━━━━━\u001b[0m \u001b[32m2.0/2.0 MB\u001b[0m \u001b[31m8.9 MB/s\u001b[0m eta \u001b[36m0:00:00\u001b[0m\n",
            "\u001b[2K     \u001b[90m━━━━━━━━━━━━━━━━━━━━━━━━━━━━━━━━━━━━━━━━\u001b[0m \u001b[32m56.5/56.5 kB\u001b[0m \u001b[31m4.0 MB/s\u001b[0m eta \u001b[36m0:00:00\u001b[0m\n",
            "\u001b[2K     \u001b[90m━━━━━━━━━━━━━━━━━━━━━━━━━━━━━━━━━━━━━━━━\u001b[0m \u001b[32m49.4/49.4 kB\u001b[0m \u001b[31m3.4 MB/s\u001b[0m eta \u001b[36m0:00:00\u001b[0m\n",
            "\u001b[2K     \u001b[90m━━━━━━━━━━━━━━━━━━━━━━━━━━━━━━━━━━━━━━━━\u001b[0m \u001b[32m437.8/437.8 kB\u001b[0m \u001b[31m4.6 MB/s\u001b[0m eta \u001b[36m0:00:00\u001b[0m\n",
            "\u001b[2K     \u001b[90m━━━━━━━━━━━━━━━━━━━━━━━━━━━━━━━━━━━━━━━━\u001b[0m \u001b[32m2.4/2.4 MB\u001b[0m \u001b[31m13.0 MB/s\u001b[0m eta \u001b[36m0:00:00\u001b[0m\n",
            "\u001b[2K     \u001b[90m━━━━━━━━━━━━━━━━━━━━━━━━━━━━━━━━━━━━━━━━\u001b[0m \u001b[32m91.8/91.8 kB\u001b[0m \u001b[31m10.7 MB/s\u001b[0m eta \u001b[36m0:00:00\u001b[0m\n",
            "\u001b[2K     \u001b[90m━━━━━━━━━━━━━━━━━━━━━━━━━━━━━━━━━━━━━━━━\u001b[0m \u001b[32m60.8/60.8 kB\u001b[0m \u001b[31m6.4 MB/s\u001b[0m eta \u001b[36m0:00:00\u001b[0m\n",
            "\u001b[2K     \u001b[90m━━━━━━━━━━━━━━━━━━━━━━━━━━━━━━━━━━━━━━━━\u001b[0m \u001b[32m41.3/41.3 kB\u001b[0m \u001b[31m4.4 MB/s\u001b[0m eta \u001b[36m0:00:00\u001b[0m\n",
            "\u001b[2K     \u001b[90m━━━━━━━━━━━━━━━━━━━━━━━━━━━━━━━━━━━━━━━━\u001b[0m \u001b[32m5.4/5.4 MB\u001b[0m \u001b[31m17.7 MB/s\u001b[0m eta \u001b[36m0:00:00\u001b[0m\n",
            "\u001b[2K     \u001b[90m━━━━━━━━━━━━━━━━━━━━━━━━━━━━━━━━━━━━━━━━\u001b[0m \u001b[32m6.8/6.8 MB\u001b[0m \u001b[31m39.3 MB/s\u001b[0m eta \u001b[36m0:00:00\u001b[0m\n",
            "\u001b[2K     \u001b[90m━━━━━━━━━━━━━━━━━━━━━━━━━━━━━━━━━━━━━━━━\u001b[0m \u001b[32m67.3/67.3 kB\u001b[0m \u001b[31m7.5 MB/s\u001b[0m eta \u001b[36m0:00:00\u001b[0m\n",
            "\u001b[?25h  Installing build dependencies ... \u001b[?25l\u001b[?25hdone\n",
            "  Getting requirements to build wheel ... \u001b[?25l\u001b[?25hdone\n",
            "  Preparing metadata (pyproject.toml) ... \u001b[?25l\u001b[?25hdone\n",
            "\u001b[2K     \u001b[90m━━━━━━━━━━━━━━━━━━━━━━━━━━━━━━━━━━━━━━━━\u001b[0m \u001b[32m698.9/698.9 kB\u001b[0m \u001b[31m45.1 MB/s\u001b[0m eta \u001b[36m0:00:00\u001b[0m\n",
            "\u001b[2K     \u001b[90m━━━━━━━━━━━━━━━━━━━━━━━━━━━━━━━━━━━━━━━━\u001b[0m \u001b[32m71.9/71.9 kB\u001b[0m \u001b[31m8.2 MB/s\u001b[0m eta \u001b[36m0:00:00\u001b[0m\n",
            "\u001b[2K     \u001b[90m━━━━━━━━━━━━━━━━━━━━━━━━━━━━━━━━━━━━━━━━\u001b[0m \u001b[32m46.0/46.0 kB\u001b[0m \u001b[31m5.0 MB/s\u001b[0m eta \u001b[36m0:00:00\u001b[0m\n",
            "\u001b[2K     \u001b[90m━━━━━━━━━━━━━━━━━━━━━━━━━━━━━━━━━━━━━━━━\u001b[0m \u001b[32m58.3/58.3 kB\u001b[0m \u001b[31m6.5 MB/s\u001b[0m eta \u001b[36m0:00:00\u001b[0m\n",
            "\u001b[2K     \u001b[90m━━━━━━━━━━━━━━━━━━━━━━━━━━━━━━━━━━━━━━━━\u001b[0m \u001b[32m341.4/341.4 kB\u001b[0m \u001b[31m29.1 MB/s\u001b[0m eta \u001b[36m0:00:00\u001b[0m\n",
            "\u001b[2K     \u001b[90m━━━━━━━━━━━━━━━━━━━━━━━━━━━━━━━━━━━━━━━━\u001b[0m \u001b[32m3.4/3.4 MB\u001b[0m \u001b[31m47.5 MB/s\u001b[0m eta \u001b[36m0:00:00\u001b[0m\n",
            "\u001b[2K     \u001b[90m━━━━━━━━━━━━━━━━━━━━━━━━━━━━━━━━━━━━━━━━\u001b[0m \u001b[32m1.3/1.3 MB\u001b[0m \u001b[31m49.4 MB/s\u001b[0m eta \u001b[36m0:00:00\u001b[0m\n",
            "\u001b[2K     \u001b[90m━━━━━━━━━━━━━━━━━━━━━━━━━━━━━━━━━━━━━━━━\u001b[0m \u001b[32m130.2/130.2 kB\u001b[0m \u001b[31m13.2 MB/s\u001b[0m eta \u001b[36m0:00:00\u001b[0m\n",
            "\u001b[2K     \u001b[90m━━━━━━━━━━━━━━━━━━━━━━━━━━━━━━━━━━━━━━━━\u001b[0m \u001b[32m86.8/86.8 kB\u001b[0m \u001b[31m10.4 MB/s\u001b[0m eta \u001b[36m0:00:00\u001b[0m\n",
            "\u001b[?25h  Building wheel for pypika (pyproject.toml) ... \u001b[?25l\u001b[?25hdone\n"
          ]
        }
      ],
      "source": [
        "! pip install langchain==0.0.340 --quiet\n",
        "! pip install chromadb==0.4.13 --quiet\n",
        "! pip install google-cloud-bigquery[pandas] --quiet\n",
        "! pip install google-cloud-aiplatform --quiet"
      ]
    },
    {
      "cell_type": "markdown",
      "source": [
        "# Vertex configuration"
      ],
      "metadata": {
        "id": "fIKfW9zEUtLZ"
      }
    },
    {
      "cell_type": "code",
      "source": [
        "VERTEX_PROJECT = \"cmi2-0-genai\" # @param{type: \"string\"}\n",
        "VERTEX_REGION = \"us-central1\" # @param{type: \"string\"}"
      ],
      "metadata": {
        "cellView": "form",
        "id": "YqvnALApSYA-"
      },
      "execution_count": 2,
      "outputs": []
    },
    {
      "cell_type": "markdown",
      "source": [
        "# BigQuery configuration\n",
        "\n",
        "Don't change these options. These are the public datasets used in this workshop."
      ],
      "metadata": {
        "id": "j3AiF1f2Uxu6"
      }
    },
    {
      "cell_type": "code",
      "source": [
        "BIGQUERY_DATASET = \"noaa_tsunami\" # @param{type: \"string\"}\n",
        "BIGQUERY_PROJECT = \"bigquery-public-data\" # @param{type: \"string\"}"
      ],
      "metadata": {
        "cellView": "form",
        "id": "Hk57x-JuSbCP"
      },
      "execution_count": 3,
      "outputs": []
    },
    {
      "cell_type": "markdown",
      "source": [
        "# Authentication"
      ],
      "metadata": {
        "id": "qqUs77DoU0Ho"
      }
    },
    {
      "cell_type": "code",
      "source": [
        "from google.colab import auth\n",
        "auth.authenticate_user()\n",
        "\n",
        "import vertexai\n",
        "vertexai.init(project=VERTEX_PROJECT, location=VERTEX_REGION)"
      ],
      "metadata": {
        "id": "wXnPJNPnVRbK"
      },
      "execution_count": 4,
      "outputs": []
    },
    {
      "cell_type": "markdown",
      "source": [
        "# Schemas as context for the prompt"
      ],
      "metadata": {
        "id": "VRZNjRJ4buAp"
      }
    },
    {
      "cell_type": "code",
      "source": [
        "from google.cloud import bigquery\n",
        "import json\n",
        "\n",
        "bq_client = bigquery.Client(project=VERTEX_PROJECT)\n",
        "bq_tables = bq_client.list_tables(dataset=f\"{BIGQUERY_PROJECT}.{BIGQUERY_DATASET}\")\n",
        "schemas = []\n",
        "for bq_table in bq_tables:\n",
        "   t = bq_client.get_table(f\"{BIGQUERY_PROJECT}.{BIGQUERY_DATASET}.{bq_table.table_id}\")\n",
        "   schema_fields = [f.to_api_repr() for f in t.schema]\n",
        "   schema = f\"The schema for table {bq_table.table_id} is the following: \\n```{json.dumps(schema_fields, indent=1)}```\"\n",
        "   schemas.append(schema)\n",
        "\n",
        "print(f\"Found {len(schemas)} tables in dataset {BIGQUERY_PROJECT}:{BIGQUERY_DATASET}\")"
      ],
      "metadata": {
        "id": "YKt25sJNV0zW",
        "outputId": "1e9c1115-d871-47f3-e4bc-abbe77f734f4",
        "colab": {
          "base_uri": "https://localhost:8080/"
        }
      },
      "execution_count": 5,
      "outputs": [
        {
          "output_type": "stream",
          "name": "stdout",
          "text": [
            "Found 2 tables in dataset bigquery-public-data:noaa_tsunami\n"
          ]
        }
      ]
    },
    {
      "cell_type": "markdown",
      "source": [
        "# Vector store\n",
        "\n",
        "We add the schemas as documents to a vector store, to be added to the prompt later.\n",
        "\n",
        "We will retrieve only one document from the store for the prompt: the most relevant doc."
      ],
      "metadata": {
        "id": "DpmSCQ7QZSAY"
      }
    },
    {
      "cell_type": "code",
      "source": [
        "from langchain.embeddings import VertexAIEmbeddings\n",
        "from langchain.vectorstores import Chroma\n",
        "\n",
        "embeddings = VertexAIEmbeddings()\n",
        "vector_store = Chroma.from_texts(schemas, embedding=embeddings)\n",
        "try: # Avoid duplicated documents\n",
        "  vector_store.delete_collection()\n",
        "except:\n",
        "  print(\"No need to clean the vector store\")\n",
        "n_docs = len(vector_store.get()['ids'])\n",
        "retriever = vector_store.as_retriever(search_kwargs={'k': 1})\n",
        "print(f\"The vector store has {n_docs} documents\")"
      ],
      "metadata": {
        "id": "rd-NuT9McjDd",
        "outputId": "9d3f7507-92f8-4bb0-b217-e9bd584e67e7",
        "colab": {
          "base_uri": "https://localhost:8080/"
        }
      },
      "execution_count": 7,
      "outputs": [
        {
          "output_type": "stream",
          "name": "stdout",
          "text": [
            "The vector store has 2 documents\n"
          ]
        }
      ]
    },
    {
      "cell_type": "markdown",
      "source": [
        "# Models"
      ],
      "metadata": {
        "id": "mY8OpGPMyeWZ"
      }
    },
    {
      "cell_type": "code",
      "source": [
        "from langchain.chat_models import ChatVertexAI\n",
        "from langchain.llms import VertexAI\n",
        "\n",
        "query_model = ChatVertexAI(model_name=\"codechat-bison\", max_output_tokens=2048)\n",
        "interpret_data_model = ChatVertexAI(max_output_tokens=2048)\n",
        "agent_model = ChatVertexAI(max_output_tokens=1024)"
      ],
      "metadata": {
        "id": "MD08GTeYyftN"
      },
      "execution_count": 11,
      "outputs": []
    },
    {
      "cell_type": "markdown",
      "source": [
        "# Get a SQL query chain"
      ],
      "metadata": {
        "id": "kTJX0iLTwmcM"
      }
    },
    {
      "cell_type": "code",
      "source": [
        "SQL_PROMPT = \"\"\"You are a SQL and BigQuery expert.\n",
        "\n",
        "Your job is to create a query for BigQuery in SQL.\n",
        "\n",
        "The following paragraph contains the schema of the table used for a query. It is encoded in JSON format.\n",
        "\n",
        "{context}\n",
        "\n",
        "Create a BigQuery SQL query for the following user input, using the above table.\n",
        "\n",
        "The user and the agent have done this conversation so far:\n",
        "{chat_history}\n",
        "\n",
        "Follow these restrictions strictly:\n",
        "- Only return the SQL code.\n",
        "- Do not add backticks or any markup. Only write the query as output. NOTHING ELSE.\n",
        "- In FROM, always use the full table path, using `{project}` as project and `{dataset}` as dataset.\n",
        "- Always transform country names to full uppercase. For instance, if the country is Japan, you should use JAPAN in the query.\n",
        "\n",
        "User input: {question}\n",
        "\n",
        "SQL query:\n",
        "\"\"\""
      ],
      "metadata": {
        "id": "Ti1xFJdMwyh5"
      },
      "execution_count": 12,
      "outputs": []
    },
    {
      "cell_type": "code",
      "source": [
        "from langchain.schema.vectorstore import VectorStoreRetriever\n",
        "def get_documents(retriever: VectorStoreRetriever, question: str) -> str:\n",
        "  # Return only the first document\n",
        "  output = \"\"\n",
        "  for d in retriever.get_relevant_documents(question):\n",
        "    output += d.page_content\n",
        "    output += \"\\n\"\n",
        "    return output"
      ],
      "metadata": {
        "id": "lHMBqcbzOa51"
      },
      "execution_count": 13,
      "outputs": []
    },
    {
      "cell_type": "code",
      "source": [
        "from operator import itemgetter\n",
        "from langchain.prompts import PromptTemplate\n",
        "from langchain.schema import StrOutputParser\n",
        "\n",
        "\n",
        "### EXERCISE STARTS HERE\n",
        "prompt_template = PromptTemplate(\n",
        "    input_variables=[\"context\", \"chat_history\", \"question\", \"project\", \"dataset\"],\n",
        "    template=SQL_PROMPT)\n",
        "\n",
        "partial_prompt = prompt_template.partial(project=BIGQUERY_PROJECT,\n",
        "                                         dataset=BIGQUERY_DATASET)\n",
        "\n",
        "# Input will be like {\"input\": \"SOME_QUESTION\", \"chat_history\": \"HISTORY\"}\n",
        "docs = {\"context\": lambda x: get_documents(retriever, x['input'])}\n",
        "question = {\"question\": itemgetter(\"input\")}\n",
        "chat_history = {\"chat_history\": itemgetter(\"chat_history\")}\n",
        "query_chain = docs | question | chat_history | partial_prompt | query_model\n",
        "query = query_chain | StrOutputParser()\n",
        "### EXERCISE ENDS HERE"
      ],
      "metadata": {
        "id": "ZOBYThDvGiTb"
      },
      "execution_count": 14,
      "outputs": []
    },
    {
      "cell_type": "code",
      "source": [
        "from langchain.callbacks.tracers import ConsoleCallbackHandler\n",
        "# Example\n",
        "x = {\"input\": \"Which countries in Asia had more houses damaged? Give me the top 3\", \"chat_history\": \"\"}\n",
        "print(query.invoke(x, config={'callbacks': [ConsoleCallbackHandler()]}))"
      ],
      "metadata": {
        "id": "u4neRJw4HwgA",
        "collapsed": true,
        "outputId": "12d626bb-6ff7-4fdc-a581-6de01570cf0e",
        "colab": {
          "base_uri": "https://localhost:8080/"
        }
      },
      "execution_count": 15,
      "outputs": [
        {
          "output_type": "stream",
          "name": "stdout",
          "text": [
            "\u001b[32;1m\u001b[1;3m[chain/start]\u001b[0m \u001b[1m[1:chain:RunnableSequence] Entering Chain run with input:\n",
            "\u001b[0m{\n",
            "  \"input\": \"Which countries in Asia had more houses damaged? Give me the top 3\",\n",
            "  \"chat_history\": \"\"\n",
            "}\n",
            "\u001b[32;1m\u001b[1;3m[chain/start]\u001b[0m \u001b[1m[1:chain:RunnableSequence > 2:chain:RunnableParallel] Entering Chain run with input:\n",
            "\u001b[0m{\n",
            "  \"input\": \"Which countries in Asia had more houses damaged? Give me the top 3\",\n",
            "  \"chat_history\": \"\"\n",
            "}\n",
            "\u001b[32;1m\u001b[1;3m[chain/start]\u001b[0m \u001b[1m[1:chain:RunnableSequence > 2:chain:RunnableParallel > 3:chain:<lambda>] Entering Chain run with input:\n",
            "\u001b[0m{\n",
            "  \"input\": \"Which countries in Asia had more houses damaged? Give me the top 3\",\n",
            "  \"chat_history\": \"\"\n",
            "}\n",
            "\u001b[32;1m\u001b[1;3m[chain/start]\u001b[0m \u001b[1m[1:chain:RunnableSequence > 2:chain:RunnableParallel > 4:chain:RunnableLambda] Entering Chain run with input:\n",
            "\u001b[0m{\n",
            "  \"input\": \"Which countries in Asia had more houses damaged? Give me the top 3\",\n",
            "  \"chat_history\": \"\"\n",
            "}\u001b[32;1m\u001b[1;3m[chain/start]\u001b[0m \u001b[1m[1:chain:RunnableSequence > 2:chain:RunnableParallel > 5:chain:RunnableLambda] Entering Chain run with input:\n",
            "\u001b[0m{\n",
            "  \"input\": \"Which countries in Asia had more houses damaged? Give me the top 3\",\n",
            "  \"chat_history\": \"\"\n",
            "}\n",
            "\u001b[36;1m\u001b[1;3m[chain/end]\u001b[0m \u001b[1m[1:chain:RunnableSequence > 2:chain:RunnableParallel > 5:chain:RunnableLambda] [1ms] Exiting Chain run with output:\n",
            "\u001b[0m{\n",
            "  \"output\": \"\"\n",
            "}\n",
            "\n",
            "\u001b[36;1m\u001b[1;3m[chain/end]\u001b[0m \u001b[1m[1:chain:RunnableSequence > 2:chain:RunnableParallel > 4:chain:RunnableLambda] [7ms] Exiting Chain run with output:\n",
            "\u001b[0m{\n",
            "  \"output\": \"Which countries in Asia had more houses damaged? Give me the top 3\"\n",
            "}\n",
            "\u001b[36;1m\u001b[1;3m[chain/end]\u001b[0m \u001b[1m[1:chain:RunnableSequence > 2:chain:RunnableParallel > 3:chain:<lambda>] [895ms] Exiting Chain run with output:\n",
            "\u001b[0m{\n",
            "  \"output\": \"The schema for table historical_runups is the following: \\n```[\\n {\\n  \\\"name\\\": \\\"id\\\",\\n  \\\"type\\\": \\\"INTEGER\\\",\\n  \\\"mode\\\": \\\"NULLABLE\\\",\\n  \\\"description\\\": \\\"The unique numeric identifier of the record.\\\"\\n },\\n {\\n  \\\"name\\\": \\\"tsevent_id\\\",\\n  \\\"type\\\": \\\"INTEGER\\\",\\n  \\\"mode\\\": \\\"NULLABLE\\\",\\n  \\\"description\\\": \\\"The unique numeric identifier of the tsunami source event record that links the runup with the event.\\\"\\n },\\n {\\n  \\\"name\\\": \\\"year\\\",\\n  \\\"type\\\": \\\"INTEGER\\\",\\n  \\\"mode\\\": \\\"NULLABLE\\\",\\n  \\\"description\\\": \\\"Valid values: -2000 to Present Format +/-yyyy (-is B.C, +is A.D.)  The Date and Time are given in Universal Coordinated Time (also known as Greenwich Mean Time). The local date may be one day different.\\\"\\n },\\n {\\n  \\\"name\\\": \\\"month\\\",\\n  \\\"type\\\": \\\"INTEGER\\\",\\n  \\\"mode\\\": \\\"NULLABLE\\\",\\n  \\\"description\\\": \\\"Valid values: 1-12 The Date and Time are given in Universal Coordinated Time (also known as Greenwich Mean Time). The local date may be one day different.\\\"\\n },\\n {\\n  \\\"name\\\": \\\"day\\\",\\n  \\\"type\\\": \\\"INTEGER\\\",\\n  \\\"mode\\\": \\\"NULLABLE\\\",\\n  \\\"description\\\": \\\"Valid values: 1-31 (where months apply) The Date and Time are given in Universal Coordinated Time (also known as Greenwich Mean Time). The local date may be one day different.\\\"\\n },\\n {\\n  \\\"name\\\": \\\"timestamp\\\",\\n  \\\"type\\\": \\\"DATETIME\\\",\\n  \\\"mode\\\": \\\"NULLABLE\\\",\\n  \\\"description\\\": \\\"Timestamp in UTC.\\\"\\n },\\n {\\n  \\\"name\\\": \\\"doubtful\\\",\\n  \\\"type\\\": \\\"STRING\\\",\\n  \\\"mode\\\": \\\"NULLABLE\\\",\\n  \\\"description\\\": \\\"A \\\\\\\"?\\\\\\\" in the Doubtful column indicates a doubtful runup entry.  An \\\\\\\"M\\\\\\\" indicates the waves likely had a meteorologic source, and thus were not true tsunami waves.\\\"\\n },\\n {\\n  \\\"name\\\": \\\"country\\\",\\n  \\\"type\\\": \\\"STRING\\\",\\n  \\\"mode\\\": \\\"NULLABLE\\\",\\n  \\\"description\\\": \\\"The country where the tsunami effects were observed.\\\"\\n },\\n {\\n  \\\"name\\\": \\\"state\\\",\\n  \\\"type\\\": \\\"STRING\\\",\\n  \\\"mode\\\": \\\"NULLABLE\\\",\\n  \\\"description\\\": \\\"The State, Province or Prefecture where the tsunami effects were observed.\\\"\\n },\\n {\\n  \\\"name\\\": \\\"location_name\\\",\\n  \\\"type\\\": \\\"STRING\\\",\\n  \\\"mode\\\": \\\"NULLABLE\\\",\\n  \\\"description\\\": \\\"The location (city, state or island) where the tsunami effects were observed.\\\"\\n },\\n {\\n  \\\"name\\\": \\\"latitude\\\",\\n  \\\"type\\\": \\\"FLOAT\\\",\\n  \\\"mode\\\": \\\"NULLABLE\\\",\\n  \\\"description\\\": \\\"Valid values: -90 to +90 Latitude: 0 to 90 (Northern Hemisphere) -90 to 0 (Southern Hemisphere)  The latitude and longitude of the location (city, state or island) where the tsunami effects occurred.\\\"\\n },\\n {\\n  \\\"name\\\": \\\"longitude\\\",\\n  \\\"type\\\": \\\"FLOAT\\\",\\n  \\\"mode\\\": \\\"NULLABLE\\\",\\n  \\\"description\\\": \\\"Valid values: -180 to +180 Longitude: 0 to 180 (Eastern Hemisphere) -180 to 0 (Western Hemisphere)  The latitude and longitude of the location (city, state or island) where the tsunami effects occurred.\\\"\\n },\\n {\\n  \\\"name\\\": \\\"region_code\\\",\\n  \\\"type\\\": \\\"INTEGER\\\",\\n  \\\"mode\\\": \\\"NULLABLE\\\",\\n  \\\"description\\\": \\\"Regional boundaries are based on frequency of occurrence of tsunamigenic events, geophysical relations, risk in distant areas and political justification. 77 =\\\\tWest Coast of Africa 78 =\\\\tCentral Africa 73 =\\\\tNortheast Atlantic Ocean 72 =\\\\tNorthwest Atlantic Ocean 70 =\\\\tSoutheast Atlantic Ocean 71 =\\\\tSouthwest Atlantic Ocean 75 =\\\\tE. Coast USA and Canada, St Pierre and Miquelon 76 =\\\\tGulf of Mexico 74 =\\\\tCaribbean Sea and Bermuda 40 =\\\\tBlack Sea and Caspian Sea 50 =\\\\tMediterranean Sea 30 =\\\\tRed Sea and Persian Gulf 60 =\\\\tIndian Ocean (including west coast of Australia) 87 =\\\\tAlaska (including Aleutian Islands) 84 =\\\\tChina, North and South Korea, Philippines, Taiwan 81 =\\\\tE Coast Australia, New Zealand, South Pacific Is. 80 =\\\\tHawaii, Johnston Atoll, Midway I 83 =\\\\tE. Indonesia (Pacific Ocean) and Malaysia 82 =\\\\tNew Caledonia, New Guinea, Solomon Is., Vanuatu 86 =\\\\tKamchatka and Kuril Islands 85 =\\\\tJapan 88 =\\\\tWest Coast of North and Central America 89 =\\\\tWest Coast of South America\\\"\\n },\\n {\\n  \\\"name\\\": \\\"distance_from_source\\\",\\n  \\\"type\\\": \\\"INTEGER\\\",\\n  \\\"mode\\\": \\\"NULLABLE\\\",\\n  \\\"description\\\": \\\"The distance from the tsunami event source to the runup location.\\\"\\n },\\n {\\n  \\\"name\\\": \\\"arr_day\\\",\\n  \\\"type\\\": \\\"INTEGER\\\",\\n  \\\"mode\\\": \\\"NULLABLE\\\",\\n  \\\"description\\\": \\\"\\\"\\n },\\n {\\n  \\\"name\\\": \\\"arr_hour\\\",\\n  \\\"type\\\": \\\"INTEGER\\\",\\n  \\\"mode\\\": \\\"NULLABLE\\\",\\n  \\\"description\\\": \\\"\\\"\\n },\\n {\\n  \\\"name\\\": \\\"arr_min\\\",\\n  \\\"type\\\": \\\"INTEGER\\\",\\n  \\\"mode\\\": \\\"NULLABLE\\\",\\n  \\\"description\\\": \\\"\\\"\\n },\\n {\\n  \\\"name\\\": \\\"travel_time_hours\\\",\\n  \\\"type\\\": \\\"INTEGER\\\",\\n  \\\"mode\\\": \\\"NULLABLE\\\",\\n  \\\"description\\\": \\\"\\\"\\n },\\n {\\n  \\\"name\\\": \\\"travel_time_minutes\\\",\\n  \\\"type\\\": \\\"INTEGER\\\",\\n  \\\"mode\\\": \\\"NULLABLE\\\",\\n  \\\"description\\\": \\\"\\\"\\n },\\n {\\n  \\\"name\\\": \\\"water_ht\\\",\\n  \\\"type\\\": \\\"FLOAT\\\",\\n  \\\"mode\\\": \\\"NULLABLE\\\",\\n  \\\"description\\\": \\\"The maximum water height above sea level in meters. See image and text below for more information. If the type of measurement is:  Type 1: Water height - Eyewitness observation - the maximum elevation the wave. Type 2: Tide Gauge - half of the maximum height (minus the normal tide)of a tsunami wave recorded at the coast by a tide gauge. Type 3: Deep Ocean Gauge - half of the maximum height (minus the normal tide) of a tsunami wave recorded in the open ocean by a seafloor bottom pressure recording system. Type 4: Water height (Post-tsunami survey measurement)  Type 5: Runup Height (Post-tsunami survey measurement)  Type 8: Runup Height in Harbor (Post-tsunami survey measurement)  Type 10: Flow Depth (Post-tsunami survey measurement) depth of the water. Type 9: Splash mark (Post-tsunami survey measurement) Type 6: Atmospheric Wave  Type 7: Seiche\\\"\\n },\\n {\\n  \\\"name\\\": \\\"horizontal_inundation\\\",\\n  \\\"type\\\": \\\"FLOAT\\\",\\n  \\\"mode\\\": \\\"NULLABLE\\\",\\n  \\\"description\\\": \\\"The maximum horizontal distance of inland flooding (in meters)\\\"\\n },\\n {\\n  \\\"name\\\": \\\"type_measurement_id\\\",\\n  \\\"type\\\": \\\"INTEGER\\\",\\n  \\\"mode\\\": \\\"NULLABLE\\\",\\n  \\\"description\\\": \\\"Valid values: 1, 2, 3, 4, 5, 6, 7, 8, 9, 10  See text below for more information. 1 = Eyewitness measurement 5 = Runup Height, Post-tsunami survey measurement 4 = Water height, Post-tsunami survey measurement 8 = Water height in harbor, Post-tsunami survey measurement 10 = Flow Depth, Post-tsunami survey measurement 9 = Splash mark, Post-tsunami survey measurement 2 = Tide-gauge measurement 3 = Deep ocean gauge 6 = Atmospheric Wave 7 = Seiche\\\"\\n },\\n {\\n  \\\"name\\\": \\\"period\\\",\\n  \\\"type\\\": \\\"FLOAT\\\",\\n  \\\"mode\\\": \\\"NULLABLE\\\",\\n  \\\"description\\\": \\\"The period is in minutes and, when available, is the period of the first cycle.\\\"\\n },\\n {\\n  \\\"name\\\": \\\"first_motion\\\",\\n  \\\"type\\\": \\\"STRING\\\",\\n  \\\"mode\\\": \\\"NULLABLE\\\",\\n  \\\"description\\\": \\\"The first motion of the wave whether rise or fall.  R = Rise F = Fall\\\"\\n },\\n {\\n  \\\"name\\\": \\\"deaths\\\",\\n  \\\"type\\\": \\\"INTEGER\\\",\\n  \\\"mode\\\": \\\"NULLABLE\\\",\\n  \\\"description\\\": \\\"Deaths from the tsunami at the specific runup location.\\\"\\n },\\n {\\n  \\\"name\\\": \\\"deaths_description\\\",\\n  \\\"type\\\": \\\"INTEGER\\\",\\n  \\\"mode\\\": \\\"NULLABLE\\\",\\n  \\\"description\\\": \\\"Valid values: 0 to 4 When a description was found in the historical literature instead of an actual number of deaths, this value was coded and listed in the Deaths De column. If the actual number of deaths was listed, a descriptor was also added for search purposes.  0 = None 1 = Few (~1 to 50 deaths) 2 = Some (~51 to 100 deaths) 3 = Many (~101 to 1000 deaths) 4 = Very Many (~1001 or more deaths)\\\"\\n },\\n {\\n  \\\"name\\\": \\\"injuries\\\",\\n  \\\"type\\\": \\\"INTEGER\\\",\\n  \\\"mode\\\": \\\"NULLABLE\\\",\\n  \\\"description\\\": \\\"Whenever possible, numbers of injuries from the tsunami at the specific runup location are listed; may also include injuries from the earthquake that triggered the tsunami.\\\"\\n },\\n {\\n  \\\"name\\\": \\\"injuries_description\\\",\\n  \\\"type\\\": \\\"INTEGER\\\",\\n  \\\"mode\\\": \\\"NULLABLE\\\",\\n  \\\"description\\\": \\\"Valid values: 0 to 4 When a description was found in the historical literature instead of an actual number of injuries, this value was coded and listed in the Injuries De column. If the actual number of injuries was listed, a descriptor was also added for search purposes.  0 = None 1 = Few (~1 to 50 injuries) 2 = Some(~51 to 100 injuries) 3 = Many (~101 to 1000 injuries) 4 = Very Many (~1001 or more injuries)\\\"\\n },\\n {\\n  \\\"name\\\": \\\"damage_millions_dollars\\\",\\n  \\\"type\\\": \\\"FLOAT\\\",\\n  \\\"mode\\\": \\\"NULLABLE\\\",\\n  \\\"description\\\": \\\"The value in the Damage column should be multipled by 1,000,000 to obtain the actual dollar amount.  When a dollar amount for damage was found in the literature, it was listed in the Damage column in millions of U.S. dollars. The dollar value listed is the value at the time of the event. To convert the damage to current dollar values today, please use the Consumer Price Index Calculator. Monetary conversion tables for the time of the event were used to convert foreign currency to U.S. dollars.\\\"\\n },\\n {\\n  \\\"name\\\": \\\"damage_description\\\",\\n  \\\"type\\\": \\\"INTEGER\\\",\\n  \\\"mode\\\": \\\"NULLABLE\\\",\\n  \\\"description\\\": \\\"For those events not offering a monetary evaluation of damage, the following five-level scale was used to classify damage (1990 dollars) and was listed in the Damage De column. If the actual dollar amount of damage was listed, a descriptor was also added for search purposes.  0 = NONE 1 = LIMITED (roughly corresponding to less than $1 million) 2 = MODERATE (~$1 to $5 million) 3 = SEVERE (~>$5 to $24 million) 4 = EXTREME (~$25 million or more)\\\"\\n },\\n {\\n  \\\"name\\\": \\\"houses_damaged\\\",\\n  \\\"type\\\": \\\"INTEGER\\\",\\n  \\\"mode\\\": \\\"NULLABLE\\\",\\n  \\\"description\\\": \\\"Valid values: 0 to Whenever possible, number of houses damaged by the tsunami at the specific runup location are listed; may also include houses damaged by the earthquake that triggered the tsunami.\\\"\\n },\\n {\\n  \\\"name\\\": \\\"houses_damaged_description\\\",\\n  \\\"type\\\": \\\"INTEGER\\\",\\n  \\\"mode\\\": \\\"NULLABLE\\\",\\n  \\\"description\\\": \\\"Valid values: 0 to 4 For those events not offering an exact number of houses damaged, the following four-level scale was used to classify the damage and was listed in the Houses Damaged De column. If the actual number of houses damaged was listed, a descriptor was also added for search purposes.  0 = None 1 = Few (~1 to 50 houses) 2 = Some (~51 to 100 houses) 3 = Many (~101 to 1000 houses) 4 = Very Many (~1001 or more houses)\\\"\\n },\\n {\\n  \\\"name\\\": \\\"houses_destroyed\\\",\\n  \\\"type\\\": \\\"INTEGER\\\",\\n  \\\"mode\\\": \\\"NULLABLE\\\",\\n  \\\"description\\\": \\\"Whenever possible, number of houses destroyed by the tsunami at the specific runup location are listed; may also include houses destroyed by the earthquake that triggered the tsunami.\\\"\\n },\\n {\\n  \\\"name\\\": \\\"houses_destroyed_description\\\",\\n  \\\"type\\\": \\\"INTEGER\\\",\\n  \\\"mode\\\": \\\"NULLABLE\\\",\\n  \\\"description\\\": \\\"Valid values: 0 to 4 For those events not offering an exact number of houses destroyed, the following four-level scale was used to classify the destruction and was listed in the Houses Destroyed De column. If the actual number of houses destroyed was listed, a descriptor was also added for search purposes.  0 = None 1 = Few (~1 to 50 houses) 2 = Some (~51 to 100 houses) 3 = Many (~101 to 1000 houses) 4 = Very Many (~1001 or more houses)\\\"\\n }\\n]```\\n\"\n",
            "}\n",
            "\u001b[36;1m\u001b[1;3m[chain/end]\u001b[0m \u001b[1m[1:chain:RunnableSequence > 2:chain:RunnableParallel] [901ms] Exiting Chain run with output:\n",
            "\u001b[0m{\n",
            "  \"context\": \"The schema for table historical_runups is the following: \\n```[\\n {\\n  \\\"name\\\": \\\"id\\\",\\n  \\\"type\\\": \\\"INTEGER\\\",\\n  \\\"mode\\\": \\\"NULLABLE\\\",\\n  \\\"description\\\": \\\"The unique numeric identifier of the record.\\\"\\n },\\n {\\n  \\\"name\\\": \\\"tsevent_id\\\",\\n  \\\"type\\\": \\\"INTEGER\\\",\\n  \\\"mode\\\": \\\"NULLABLE\\\",\\n  \\\"description\\\": \\\"The unique numeric identifier of the tsunami source event record that links the runup with the event.\\\"\\n },\\n {\\n  \\\"name\\\": \\\"year\\\",\\n  \\\"type\\\": \\\"INTEGER\\\",\\n  \\\"mode\\\": \\\"NULLABLE\\\",\\n  \\\"description\\\": \\\"Valid values: -2000 to Present Format +/-yyyy (-is B.C, +is A.D.)  The Date and Time are given in Universal Coordinated Time (also known as Greenwich Mean Time). The local date may be one day different.\\\"\\n },\\n {\\n  \\\"name\\\": \\\"month\\\",\\n  \\\"type\\\": \\\"INTEGER\\\",\\n  \\\"mode\\\": \\\"NULLABLE\\\",\\n  \\\"description\\\": \\\"Valid values: 1-12 The Date and Time are given in Universal Coordinated Time (also known as Greenwich Mean Time). The local date may be one day different.\\\"\\n },\\n {\\n  \\\"name\\\": \\\"day\\\",\\n  \\\"type\\\": \\\"INTEGER\\\",\\n  \\\"mode\\\": \\\"NULLABLE\\\",\\n  \\\"description\\\": \\\"Valid values: 1-31 (where months apply) The Date and Time are given in Universal Coordinated Time (also known as Greenwich Mean Time). The local date may be one day different.\\\"\\n },\\n {\\n  \\\"name\\\": \\\"timestamp\\\",\\n  \\\"type\\\": \\\"DATETIME\\\",\\n  \\\"mode\\\": \\\"NULLABLE\\\",\\n  \\\"description\\\": \\\"Timestamp in UTC.\\\"\\n },\\n {\\n  \\\"name\\\": \\\"doubtful\\\",\\n  \\\"type\\\": \\\"STRING\\\",\\n  \\\"mode\\\": \\\"NULLABLE\\\",\\n  \\\"description\\\": \\\"A \\\\\\\"?\\\\\\\" in the Doubtful column indicates a doubtful runup entry.  An \\\\\\\"M\\\\\\\" indicates the waves likely had a meteorologic source, and thus were not true tsunami waves.\\\"\\n },\\n {\\n  \\\"name\\\": \\\"country\\\",\\n  \\\"type\\\": \\\"STRING\\\",\\n  \\\"mode\\\": \\\"NULLABLE\\\",\\n  \\\"description\\\": \\\"The country where the tsunami effects were observed.\\\"\\n },\\n {\\n  \\\"name\\\": \\\"state\\\",\\n  \\\"type\\\": \\\"STRING\\\",\\n  \\\"mode\\\": \\\"NULLABLE\\\",\\n  \\\"description\\\": \\\"The State, Province or Prefecture where the tsunami effects were observed.\\\"\\n },\\n {\\n  \\\"name\\\": \\\"location_name\\\",\\n  \\\"type\\\": \\\"STRING\\\",\\n  \\\"mode\\\": \\\"NULLABLE\\\",\\n  \\\"description\\\": \\\"The location (city, state or island) where the tsunami effects were observed.\\\"\\n },\\n {\\n  \\\"name\\\": \\\"latitude\\\",\\n  \\\"type\\\": \\\"FLOAT\\\",\\n  \\\"mode\\\": \\\"NULLABLE\\\",\\n  \\\"description\\\": \\\"Valid values: -90 to +90 Latitude: 0 to 90 (Northern Hemisphere) -90 to 0 (Southern Hemisphere)  The latitude and longitude of the location (city, state or island) where the tsunami effects occurred.\\\"\\n },\\n {\\n  \\\"name\\\": \\\"longitude\\\",\\n  \\\"type\\\": \\\"FLOAT\\\",\\n  \\\"mode\\\": \\\"NULLABLE\\\",\\n  \\\"description\\\": \\\"Valid values: -180 to +180 Longitude: 0 to 180 (Eastern Hemisphere) -180 to 0 (Western Hemisphere)  The latitude and longitude of the location (city, state or island) where the tsunami effects occurred.\\\"\\n },\\n {\\n  \\\"name\\\": \\\"region_code\\\",\\n  \\\"type\\\": \\\"INTEGER\\\",\\n  \\\"mode\\\": \\\"NULLABLE\\\",\\n  \\\"description\\\": \\\"Regional boundaries are based on frequency of occurrence of tsunamigenic events, geophysical relations, risk in distant areas and political justification. 77 =\\\\tWest Coast of Africa 78 =\\\\tCentral Africa 73 =\\\\tNortheast Atlantic Ocean 72 =\\\\tNorthwest Atlantic Ocean 70 =\\\\tSoutheast Atlantic Ocean 71 =\\\\tSouthwest Atlantic Ocean 75 =\\\\tE. Coast USA and Canada, St Pierre and Miquelon 76 =\\\\tGulf of Mexico 74 =\\\\tCaribbean Sea and Bermuda 40 =\\\\tBlack Sea and Caspian Sea 50 =\\\\tMediterranean Sea 30 =\\\\tRed Sea and Persian Gulf 60 =\\\\tIndian Ocean (including west coast of Australia) 87 =\\\\tAlaska (including Aleutian Islands) 84 =\\\\tChina, North and South Korea, Philippines, Taiwan 81 =\\\\tE Coast Australia, New Zealand, South Pacific Is. 80 =\\\\tHawaii, Johnston Atoll, Midway I 83 =\\\\tE. Indonesia (Pacific Ocean) and Malaysia 82 =\\\\tNew Caledonia, New Guinea, Solomon Is., Vanuatu 86 =\\\\tKamchatka and Kuril Islands 85 =\\\\tJapan 88 =\\\\tWest Coast of North and Central America 89 =\\\\tWest Coast of South America\\\"\\n },\\n {\\n  \\\"name\\\": \\\"distance_from_source\\\",\\n  \\\"type\\\": \\\"INTEGER\\\",\\n  \\\"mode\\\": \\\"NULLABLE\\\",\\n  \\\"description\\\": \\\"The distance from the tsunami event source to the runup location.\\\"\\n },\\n {\\n  \\\"name\\\": \\\"arr_day\\\",\\n  \\\"type\\\": \\\"INTEGER\\\",\\n  \\\"mode\\\": \\\"NULLABLE\\\",\\n  \\\"description\\\": \\\"\\\"\\n },\\n {\\n  \\\"name\\\": \\\"arr_hour\\\",\\n  \\\"type\\\": \\\"INTEGER\\\",\\n  \\\"mode\\\": \\\"NULLABLE\\\",\\n  \\\"description\\\": \\\"\\\"\\n },\\n {\\n  \\\"name\\\": \\\"arr_min\\\",\\n  \\\"type\\\": \\\"INTEGER\\\",\\n  \\\"mode\\\": \\\"NULLABLE\\\",\\n  \\\"description\\\": \\\"\\\"\\n },\\n {\\n  \\\"name\\\": \\\"travel_time_hours\\\",\\n  \\\"type\\\": \\\"INTEGER\\\",\\n  \\\"mode\\\": \\\"NULLABLE\\\",\\n  \\\"description\\\": \\\"\\\"\\n },\\n {\\n  \\\"name\\\": \\\"travel_time_minutes\\\",\\n  \\\"type\\\": \\\"INTEGER\\\",\\n  \\\"mode\\\": \\\"NULLABLE\\\",\\n  \\\"description\\\": \\\"\\\"\\n },\\n {\\n  \\\"name\\\": \\\"water_ht\\\",\\n  \\\"type\\\": \\\"FLOAT\\\",\\n  \\\"mode\\\": \\\"NULLABLE\\\",\\n  \\\"description\\\": \\\"The maximum water height above sea level in meters. See image and text below for more information. If the type of measurement is:  Type 1: Water height - Eyewitness observation - the maximum elevation the wave. Type 2: Tide Gauge - half of the maximum height (minus the normal tide)of a tsunami wave recorded at the coast by a tide gauge. Type 3: Deep Ocean Gauge - half of the maximum height (minus the normal tide) of a tsunami wave recorded in the open ocean by a seafloor bottom pressure recording system. Type 4: Water height (Post-tsunami survey measurement)  Type 5: Runup Height (Post-tsunami survey measurement)  Type 8: Runup Height in Harbor (Post-tsunami survey measurement)  Type 10: Flow Depth (Post-tsunami survey measurement) depth of the water. Type 9: Splash mark (Post-tsunami survey measurement) Type 6: Atmospheric Wave  Type 7: Seiche\\\"\\n },\\n {\\n  \\\"name\\\": \\\"horizontal_inundation\\\",\\n  \\\"type\\\": \\\"FLOAT\\\",\\n  \\\"mode\\\": \\\"NULLABLE\\\",\\n  \\\"description\\\": \\\"The maximum horizontal distance of inland flooding (in meters)\\\"\\n },\\n {\\n  \\\"name\\\": \\\"type_measurement_id\\\",\\n  \\\"type\\\": \\\"INTEGER\\\",\\n  \\\"mode\\\": \\\"NULLABLE\\\",\\n  \\\"description\\\": \\\"Valid values: 1, 2, 3, 4, 5, 6, 7, 8, 9, 10  See text below for more information. 1 = Eyewitness measurement 5 = Runup Height, Post-tsunami survey measurement 4 = Water height, Post-tsunami survey measurement 8 = Water height in harbor, Post-tsunami survey measurement 10 = Flow Depth, Post-tsunami survey measurement 9 = Splash mark, Post-tsunami survey measurement 2 = Tide-gauge measurement 3 = Deep ocean gauge 6 = Atmospheric Wave 7 = Seiche\\\"\\n },\\n {\\n  \\\"name\\\": \\\"period\\\",\\n  \\\"type\\\": \\\"FLOAT\\\",\\n  \\\"mode\\\": \\\"NULLABLE\\\",\\n  \\\"description\\\": \\\"The period is in minutes and, when available, is the period of the first cycle.\\\"\\n },\\n {\\n  \\\"name\\\": \\\"first_motion\\\",\\n  \\\"type\\\": \\\"STRING\\\",\\n  \\\"mode\\\": \\\"NULLABLE\\\",\\n  \\\"description\\\": \\\"The first motion of the wave whether rise or fall.  R = Rise F = Fall\\\"\\n },\\n {\\n  \\\"name\\\": \\\"deaths\\\",\\n  \\\"type\\\": \\\"INTEGER\\\",\\n  \\\"mode\\\": \\\"NULLABLE\\\",\\n  \\\"description\\\": \\\"Deaths from the tsunami at the specific runup location.\\\"\\n },\\n {\\n  \\\"name\\\": \\\"deaths_description\\\",\\n  \\\"type\\\": \\\"INTEGER\\\",\\n  \\\"mode\\\": \\\"NULLABLE\\\",\\n  \\\"description\\\": \\\"Valid values: 0 to 4 When a description was found in the historical literature instead of an actual number of deaths, this value was coded and listed in the Deaths De column. If the actual number of deaths was listed, a descriptor was also added for search purposes.  0 = None 1 = Few (~1 to 50 deaths) 2 = Some (~51 to 100 deaths) 3 = Many (~101 to 1000 deaths) 4 = Very Many (~1001 or more deaths)\\\"\\n },\\n {\\n  \\\"name\\\": \\\"injuries\\\",\\n  \\\"type\\\": \\\"INTEGER\\\",\\n  \\\"mode\\\": \\\"NULLABLE\\\",\\n  \\\"description\\\": \\\"Whenever possible, numbers of injuries from the tsunami at the specific runup location are listed; may also include injuries from the earthquake that triggered the tsunami.\\\"\\n },\\n {\\n  \\\"name\\\": \\\"injuries_description\\\",\\n  \\\"type\\\": \\\"INTEGER\\\",\\n  \\\"mode\\\": \\\"NULLABLE\\\",\\n  \\\"description\\\": \\\"Valid values: 0 to 4 When a description was found in the historical literature instead of an actual number of injuries, this value was coded and listed in the Injuries De column. If the actual number of injuries was listed, a descriptor was also added for search purposes.  0 = None 1 = Few (~1 to 50 injuries) 2 = Some(~51 to 100 injuries) 3 = Many (~101 to 1000 injuries) 4 = Very Many (~1001 or more injuries)\\\"\\n },\\n {\\n  \\\"name\\\": \\\"damage_millions_dollars\\\",\\n  \\\"type\\\": \\\"FLOAT\\\",\\n  \\\"mode\\\": \\\"NULLABLE\\\",\\n  \\\"description\\\": \\\"The value in the Damage column should be multipled by 1,000,000 to obtain the actual dollar amount.  When a dollar amount for damage was found in the literature, it was listed in the Damage column in millions of U.S. dollars. The dollar value listed is the value at the time of the event. To convert the damage to current dollar values today, please use the Consumer Price Index Calculator. Monetary conversion tables for the time of the event were used to convert foreign currency to U.S. dollars.\\\"\\n },\\n {\\n  \\\"name\\\": \\\"damage_description\\\",\\n  \\\"type\\\": \\\"INTEGER\\\",\\n  \\\"mode\\\": \\\"NULLABLE\\\",\\n  \\\"description\\\": \\\"For those events not offering a monetary evaluation of damage, the following five-level scale was used to classify damage (1990 dollars) and was listed in the Damage De column. If the actual dollar amount of damage was listed, a descriptor was also added for search purposes.  0 = NONE 1 = LIMITED (roughly corresponding to less than $1 million) 2 = MODERATE (~$1 to $5 million) 3 = SEVERE (~>$5 to $24 million) 4 = EXTREME (~$25 million or more)\\\"\\n },\\n {\\n  \\\"name\\\": \\\"houses_damaged\\\",\\n  \\\"type\\\": \\\"INTEGER\\\",\\n  \\\"mode\\\": \\\"NULLABLE\\\",\\n  \\\"description\\\": \\\"Valid values: 0 to Whenever possible, number of houses damaged by the tsunami at the specific runup location are listed; may also include houses damaged by the earthquake that triggered the tsunami.\\\"\\n },\\n {\\n  \\\"name\\\": \\\"houses_damaged_description\\\",\\n  \\\"type\\\": \\\"INTEGER\\\",\\n  \\\"mode\\\": \\\"NULLABLE\\\",\\n  \\\"description\\\": \\\"Valid values: 0 to 4 For those events not offering an exact number of houses damaged, the following four-level scale was used to classify the damage and was listed in the Houses Damaged De column. If the actual number of houses damaged was listed, a descriptor was also added for search purposes.  0 = None 1 = Few (~1 to 50 houses) 2 = Some (~51 to 100 houses) 3 = Many (~101 to 1000 houses) 4 = Very Many (~1001 or more houses)\\\"\\n },\\n {\\n  \\\"name\\\": \\\"houses_destroyed\\\",\\n  \\\"type\\\": \\\"INTEGER\\\",\\n  \\\"mode\\\": \\\"NULLABLE\\\",\\n  \\\"description\\\": \\\"Whenever possible, number of houses destroyed by the tsunami at the specific runup location are listed; may also include houses destroyed by the earthquake that triggered the tsunami.\\\"\\n },\\n {\\n  \\\"name\\\": \\\"houses_destroyed_description\\\",\\n  \\\"type\\\": \\\"INTEGER\\\",\\n  \\\"mode\\\": \\\"NULLABLE\\\",\\n  \\\"description\\\": \\\"Valid values: 0 to 4 For those events not offering an exact number of houses destroyed, the following four-level scale was used to classify the destruction and was listed in the Houses Destroyed De column. If the actual number of houses destroyed was listed, a descriptor was also added for search purposes.  0 = None 1 = Few (~1 to 50 houses) 2 = Some (~51 to 100 houses) 3 = Many (~101 to 1000 houses) 4 = Very Many (~1001 or more houses)\\\"\\n }\\n]```\\n\",\n",
            "  \"question\": \"Which countries in Asia had more houses damaged? Give me the top 3\",\n",
            "  \"chat_history\": \"\"\n",
            "}\n",
            "\u001b[32;1m\u001b[1;3m[chain/start]\u001b[0m \u001b[1m[1:chain:RunnableSequence > 6:prompt:PromptTemplate] Entering Prompt run with input:\n",
            "\u001b[0m{\n",
            "  \"context\": \"The schema for table historical_runups is the following: \\n```[\\n {\\n  \\\"name\\\": \\\"id\\\",\\n  \\\"type\\\": \\\"INTEGER\\\",\\n  \\\"mode\\\": \\\"NULLABLE\\\",\\n  \\\"description\\\": \\\"The unique numeric identifier of the record.\\\"\\n },\\n {\\n  \\\"name\\\": \\\"tsevent_id\\\",\\n  \\\"type\\\": \\\"INTEGER\\\",\\n  \\\"mode\\\": \\\"NULLABLE\\\",\\n  \\\"description\\\": \\\"The unique numeric identifier of the tsunami source event record that links the runup with the event.\\\"\\n },\\n {\\n  \\\"name\\\": \\\"year\\\",\\n  \\\"type\\\": \\\"INTEGER\\\",\\n  \\\"mode\\\": \\\"NULLABLE\\\",\\n  \\\"description\\\": \\\"Valid values: -2000 to Present Format +/-yyyy (-is B.C, +is A.D.)  The Date and Time are given in Universal Coordinated Time (also known as Greenwich Mean Time). The local date may be one day different.\\\"\\n },\\n {\\n  \\\"name\\\": \\\"month\\\",\\n  \\\"type\\\": \\\"INTEGER\\\",\\n  \\\"mode\\\": \\\"NULLABLE\\\",\\n  \\\"description\\\": \\\"Valid values: 1-12 The Date and Time are given in Universal Coordinated Time (also known as Greenwich Mean Time). The local date may be one day different.\\\"\\n },\\n {\\n  \\\"name\\\": \\\"day\\\",\\n  \\\"type\\\": \\\"INTEGER\\\",\\n  \\\"mode\\\": \\\"NULLABLE\\\",\\n  \\\"description\\\": \\\"Valid values: 1-31 (where months apply) The Date and Time are given in Universal Coordinated Time (also known as Greenwich Mean Time). The local date may be one day different.\\\"\\n },\\n {\\n  \\\"name\\\": \\\"timestamp\\\",\\n  \\\"type\\\": \\\"DATETIME\\\",\\n  \\\"mode\\\": \\\"NULLABLE\\\",\\n  \\\"description\\\": \\\"Timestamp in UTC.\\\"\\n },\\n {\\n  \\\"name\\\": \\\"doubtful\\\",\\n  \\\"type\\\": \\\"STRING\\\",\\n  \\\"mode\\\": \\\"NULLABLE\\\",\\n  \\\"description\\\": \\\"A \\\\\\\"?\\\\\\\" in the Doubtful column indicates a doubtful runup entry.  An \\\\\\\"M\\\\\\\" indicates the waves likely had a meteorologic source, and thus were not true tsunami waves.\\\"\\n },\\n {\\n  \\\"name\\\": \\\"country\\\",\\n  \\\"type\\\": \\\"STRING\\\",\\n  \\\"mode\\\": \\\"NULLABLE\\\",\\n  \\\"description\\\": \\\"The country where the tsunami effects were observed.\\\"\\n },\\n {\\n  \\\"name\\\": \\\"state\\\",\\n  \\\"type\\\": \\\"STRING\\\",\\n  \\\"mode\\\": \\\"NULLABLE\\\",\\n  \\\"description\\\": \\\"The State, Province or Prefecture where the tsunami effects were observed.\\\"\\n },\\n {\\n  \\\"name\\\": \\\"location_name\\\",\\n  \\\"type\\\": \\\"STRING\\\",\\n  \\\"mode\\\": \\\"NULLABLE\\\",\\n  \\\"description\\\": \\\"The location (city, state or island) where the tsunami effects were observed.\\\"\\n },\\n {\\n  \\\"name\\\": \\\"latitude\\\",\\n  \\\"type\\\": \\\"FLOAT\\\",\\n  \\\"mode\\\": \\\"NULLABLE\\\",\\n  \\\"description\\\": \\\"Valid values: -90 to +90 Latitude: 0 to 90 (Northern Hemisphere) -90 to 0 (Southern Hemisphere)  The latitude and longitude of the location (city, state or island) where the tsunami effects occurred.\\\"\\n },\\n {\\n  \\\"name\\\": \\\"longitude\\\",\\n  \\\"type\\\": \\\"FLOAT\\\",\\n  \\\"mode\\\": \\\"NULLABLE\\\",\\n  \\\"description\\\": \\\"Valid values: -180 to +180 Longitude: 0 to 180 (Eastern Hemisphere) -180 to 0 (Western Hemisphere)  The latitude and longitude of the location (city, state or island) where the tsunami effects occurred.\\\"\\n },\\n {\\n  \\\"name\\\": \\\"region_code\\\",\\n  \\\"type\\\": \\\"INTEGER\\\",\\n  \\\"mode\\\": \\\"NULLABLE\\\",\\n  \\\"description\\\": \\\"Regional boundaries are based on frequency of occurrence of tsunamigenic events, geophysical relations, risk in distant areas and political justification. 77 =\\\\tWest Coast of Africa 78 =\\\\tCentral Africa 73 =\\\\tNortheast Atlantic Ocean 72 =\\\\tNorthwest Atlantic Ocean 70 =\\\\tSoutheast Atlantic Ocean 71 =\\\\tSouthwest Atlantic Ocean 75 =\\\\tE. Coast USA and Canada, St Pierre and Miquelon 76 =\\\\tGulf of Mexico 74 =\\\\tCaribbean Sea and Bermuda 40 =\\\\tBlack Sea and Caspian Sea 50 =\\\\tMediterranean Sea 30 =\\\\tRed Sea and Persian Gulf 60 =\\\\tIndian Ocean (including west coast of Australia) 87 =\\\\tAlaska (including Aleutian Islands) 84 =\\\\tChina, North and South Korea, Philippines, Taiwan 81 =\\\\tE Coast Australia, New Zealand, South Pacific Is. 80 =\\\\tHawaii, Johnston Atoll, Midway I 83 =\\\\tE. Indonesia (Pacific Ocean) and Malaysia 82 =\\\\tNew Caledonia, New Guinea, Solomon Is., Vanuatu 86 =\\\\tKamchatka and Kuril Islands 85 =\\\\tJapan 88 =\\\\tWest Coast of North and Central America 89 =\\\\tWest Coast of South America\\\"\\n },\\n {\\n  \\\"name\\\": \\\"distance_from_source\\\",\\n  \\\"type\\\": \\\"INTEGER\\\",\\n  \\\"mode\\\": \\\"NULLABLE\\\",\\n  \\\"description\\\": \\\"The distance from the tsunami event source to the runup location.\\\"\\n },\\n {\\n  \\\"name\\\": \\\"arr_day\\\",\\n  \\\"type\\\": \\\"INTEGER\\\",\\n  \\\"mode\\\": \\\"NULLABLE\\\",\\n  \\\"description\\\": \\\"\\\"\\n },\\n {\\n  \\\"name\\\": \\\"arr_hour\\\",\\n  \\\"type\\\": \\\"INTEGER\\\",\\n  \\\"mode\\\": \\\"NULLABLE\\\",\\n  \\\"description\\\": \\\"\\\"\\n },\\n {\\n  \\\"name\\\": \\\"arr_min\\\",\\n  \\\"type\\\": \\\"INTEGER\\\",\\n  \\\"mode\\\": \\\"NULLABLE\\\",\\n  \\\"description\\\": \\\"\\\"\\n },\\n {\\n  \\\"name\\\": \\\"travel_time_hours\\\",\\n  \\\"type\\\": \\\"INTEGER\\\",\\n  \\\"mode\\\": \\\"NULLABLE\\\",\\n  \\\"description\\\": \\\"\\\"\\n },\\n {\\n  \\\"name\\\": \\\"travel_time_minutes\\\",\\n  \\\"type\\\": \\\"INTEGER\\\",\\n  \\\"mode\\\": \\\"NULLABLE\\\",\\n  \\\"description\\\": \\\"\\\"\\n },\\n {\\n  \\\"name\\\": \\\"water_ht\\\",\\n  \\\"type\\\": \\\"FLOAT\\\",\\n  \\\"mode\\\": \\\"NULLABLE\\\",\\n  \\\"description\\\": \\\"The maximum water height above sea level in meters. See image and text below for more information. If the type of measurement is:  Type 1: Water height - Eyewitness observation - the maximum elevation the wave. Type 2: Tide Gauge - half of the maximum height (minus the normal tide)of a tsunami wave recorded at the coast by a tide gauge. Type 3: Deep Ocean Gauge - half of the maximum height (minus the normal tide) of a tsunami wave recorded in the open ocean by a seafloor bottom pressure recording system. Type 4: Water height (Post-tsunami survey measurement)  Type 5: Runup Height (Post-tsunami survey measurement)  Type 8: Runup Height in Harbor (Post-tsunami survey measurement)  Type 10: Flow Depth (Post-tsunami survey measurement) depth of the water. Type 9: Splash mark (Post-tsunami survey measurement) Type 6: Atmospheric Wave  Type 7: Seiche\\\"\\n },\\n {\\n  \\\"name\\\": \\\"horizontal_inundation\\\",\\n  \\\"type\\\": \\\"FLOAT\\\",\\n  \\\"mode\\\": \\\"NULLABLE\\\",\\n  \\\"description\\\": \\\"The maximum horizontal distance of inland flooding (in meters)\\\"\\n },\\n {\\n  \\\"name\\\": \\\"type_measurement_id\\\",\\n  \\\"type\\\": \\\"INTEGER\\\",\\n  \\\"mode\\\": \\\"NULLABLE\\\",\\n  \\\"description\\\": \\\"Valid values: 1, 2, 3, 4, 5, 6, 7, 8, 9, 10  See text below for more information. 1 = Eyewitness measurement 5 = Runup Height, Post-tsunami survey measurement 4 = Water height, Post-tsunami survey measurement 8 = Water height in harbor, Post-tsunami survey measurement 10 = Flow Depth, Post-tsunami survey measurement 9 = Splash mark, Post-tsunami survey measurement 2 = Tide-gauge measurement 3 = Deep ocean gauge 6 = Atmospheric Wave 7 = Seiche\\\"\\n },\\n {\\n  \\\"name\\\": \\\"period\\\",\\n  \\\"type\\\": \\\"FLOAT\\\",\\n  \\\"mode\\\": \\\"NULLABLE\\\",\\n  \\\"description\\\": \\\"The period is in minutes and, when available, is the period of the first cycle.\\\"\\n },\\n {\\n  \\\"name\\\": \\\"first_motion\\\",\\n  \\\"type\\\": \\\"STRING\\\",\\n  \\\"mode\\\": \\\"NULLABLE\\\",\\n  \\\"description\\\": \\\"The first motion of the wave whether rise or fall.  R = Rise F = Fall\\\"\\n },\\n {\\n  \\\"name\\\": \\\"deaths\\\",\\n  \\\"type\\\": \\\"INTEGER\\\",\\n  \\\"mode\\\": \\\"NULLABLE\\\",\\n  \\\"description\\\": \\\"Deaths from the tsunami at the specific runup location.\\\"\\n },\\n {\\n  \\\"name\\\": \\\"deaths_description\\\",\\n  \\\"type\\\": \\\"INTEGER\\\",\\n  \\\"mode\\\": \\\"NULLABLE\\\",\\n  \\\"description\\\": \\\"Valid values: 0 to 4 When a description was found in the historical literature instead of an actual number of deaths, this value was coded and listed in the Deaths De column. If the actual number of deaths was listed, a descriptor was also added for search purposes.  0 = None 1 = Few (~1 to 50 deaths) 2 = Some (~51 to 100 deaths) 3 = Many (~101 to 1000 deaths) 4 = Very Many (~1001 or more deaths)\\\"\\n },\\n {\\n  \\\"name\\\": \\\"injuries\\\",\\n  \\\"type\\\": \\\"INTEGER\\\",\\n  \\\"mode\\\": \\\"NULLABLE\\\",\\n  \\\"description\\\": \\\"Whenever possible, numbers of injuries from the tsunami at the specific runup location are listed; may also include injuries from the earthquake that triggered the tsunami.\\\"\\n },\\n {\\n  \\\"name\\\": \\\"injuries_description\\\",\\n  \\\"type\\\": \\\"INTEGER\\\",\\n  \\\"mode\\\": \\\"NULLABLE\\\",\\n  \\\"description\\\": \\\"Valid values: 0 to 4 When a description was found in the historical literature instead of an actual number of injuries, this value was coded and listed in the Injuries De column. If the actual number of injuries was listed, a descriptor was also added for search purposes.  0 = None 1 = Few (~1 to 50 injuries) 2 = Some(~51 to 100 injuries) 3 = Many (~101 to 1000 injuries) 4 = Very Many (~1001 or more injuries)\\\"\\n },\\n {\\n  \\\"name\\\": \\\"damage_millions_dollars\\\",\\n  \\\"type\\\": \\\"FLOAT\\\",\\n  \\\"mode\\\": \\\"NULLABLE\\\",\\n  \\\"description\\\": \\\"The value in the Damage column should be multipled by 1,000,000 to obtain the actual dollar amount.  When a dollar amount for damage was found in the literature, it was listed in the Damage column in millions of U.S. dollars. The dollar value listed is the value at the time of the event. To convert the damage to current dollar values today, please use the Consumer Price Index Calculator. Monetary conversion tables for the time of the event were used to convert foreign currency to U.S. dollars.\\\"\\n },\\n {\\n  \\\"name\\\": \\\"damage_description\\\",\\n  \\\"type\\\": \\\"INTEGER\\\",\\n  \\\"mode\\\": \\\"NULLABLE\\\",\\n  \\\"description\\\": \\\"For those events not offering a monetary evaluation of damage, the following five-level scale was used to classify damage (1990 dollars) and was listed in the Damage De column. If the actual dollar amount of damage was listed, a descriptor was also added for search purposes.  0 = NONE 1 = LIMITED (roughly corresponding to less than $1 million) 2 = MODERATE (~$1 to $5 million) 3 = SEVERE (~>$5 to $24 million) 4 = EXTREME (~$25 million or more)\\\"\\n },\\n {\\n  \\\"name\\\": \\\"houses_damaged\\\",\\n  \\\"type\\\": \\\"INTEGER\\\",\\n  \\\"mode\\\": \\\"NULLABLE\\\",\\n  \\\"description\\\": \\\"Valid values: 0 to Whenever possible, number of houses damaged by the tsunami at the specific runup location are listed; may also include houses damaged by the earthquake that triggered the tsunami.\\\"\\n },\\n {\\n  \\\"name\\\": \\\"houses_damaged_description\\\",\\n  \\\"type\\\": \\\"INTEGER\\\",\\n  \\\"mode\\\": \\\"NULLABLE\\\",\\n  \\\"description\\\": \\\"Valid values: 0 to 4 For those events not offering an exact number of houses damaged, the following four-level scale was used to classify the damage and was listed in the Houses Damaged De column. If the actual number of houses damaged was listed, a descriptor was also added for search purposes.  0 = None 1 = Few (~1 to 50 houses) 2 = Some (~51 to 100 houses) 3 = Many (~101 to 1000 houses) 4 = Very Many (~1001 or more houses)\\\"\\n },\\n {\\n  \\\"name\\\": \\\"houses_destroyed\\\",\\n  \\\"type\\\": \\\"INTEGER\\\",\\n  \\\"mode\\\": \\\"NULLABLE\\\",\\n  \\\"description\\\": \\\"Whenever possible, number of houses destroyed by the tsunami at the specific runup location are listed; may also include houses destroyed by the earthquake that triggered the tsunami.\\\"\\n },\\n {\\n  \\\"name\\\": \\\"houses_destroyed_description\\\",\\n  \\\"type\\\": \\\"INTEGER\\\",\\n  \\\"mode\\\": \\\"NULLABLE\\\",\\n  \\\"description\\\": \\\"Valid values: 0 to 4 For those events not offering an exact number of houses destroyed, the following four-level scale was used to classify the destruction and was listed in the Houses Destroyed De column. If the actual number of houses destroyed was listed, a descriptor was also added for search purposes.  0 = None 1 = Few (~1 to 50 houses) 2 = Some (~51 to 100 houses) 3 = Many (~101 to 1000 houses) 4 = Very Many (~1001 or more houses)\\\"\\n }\\n]```\\n\",\n",
            "  \"question\": \"Which countries in Asia had more houses damaged? Give me the top 3\",\n",
            "  \"chat_history\": \"\"\n",
            "}\n",
            "\u001b[36;1m\u001b[1;3m[chain/end]\u001b[0m \u001b[1m[1:chain:RunnableSequence > 6:prompt:PromptTemplate] [1ms] Exiting Prompt run with output:\n",
            "\u001b[0m{\n",
            "  \"lc\": 1,\n",
            "  \"type\": \"constructor\",\n",
            "  \"id\": [\n",
            "    \"langchain\",\n",
            "    \"prompts\",\n",
            "    \"base\",\n",
            "    \"StringPromptValue\"\n",
            "  ],\n",
            "  \"kwargs\": {\n",
            "    \"text\": \"You are a SQL and BigQuery expert.\\n\\nYour job is to create a query for BigQuery in SQL.\\n\\nThe following paragraph contains the schema of the table used for a query. It is encoded in JSON format.\\n\\nThe schema for table historical_runups is the following: \\n```[\\n {\\n  \\\"name\\\": \\\"id\\\",\\n  \\\"type\\\": \\\"INTEGER\\\",\\n  \\\"mode\\\": \\\"NULLABLE\\\",\\n  \\\"description\\\": \\\"The unique numeric identifier of the record.\\\"\\n },\\n {\\n  \\\"name\\\": \\\"tsevent_id\\\",\\n  \\\"type\\\": \\\"INTEGER\\\",\\n  \\\"mode\\\": \\\"NULLABLE\\\",\\n  \\\"description\\\": \\\"The unique numeric identifier of the tsunami source event record that links the runup with the event.\\\"\\n },\\n {\\n  \\\"name\\\": \\\"year\\\",\\n  \\\"type\\\": \\\"INTEGER\\\",\\n  \\\"mode\\\": \\\"NULLABLE\\\",\\n  \\\"description\\\": \\\"Valid values: -2000 to Present Format +/-yyyy (-is B.C, +is A.D.)  The Date and Time are given in Universal Coordinated Time (also known as Greenwich Mean Time). The local date may be one day different.\\\"\\n },\\n {\\n  \\\"name\\\": \\\"month\\\",\\n  \\\"type\\\": \\\"INTEGER\\\",\\n  \\\"mode\\\": \\\"NULLABLE\\\",\\n  \\\"description\\\": \\\"Valid values: 1-12 The Date and Time are given in Universal Coordinated Time (also known as Greenwich Mean Time). The local date may be one day different.\\\"\\n },\\n {\\n  \\\"name\\\": \\\"day\\\",\\n  \\\"type\\\": \\\"INTEGER\\\",\\n  \\\"mode\\\": \\\"NULLABLE\\\",\\n  \\\"description\\\": \\\"Valid values: 1-31 (where months apply) The Date and Time are given in Universal Coordinated Time (also known as Greenwich Mean Time). The local date may be one day different.\\\"\\n },\\n {\\n  \\\"name\\\": \\\"timestamp\\\",\\n  \\\"type\\\": \\\"DATETIME\\\",\\n  \\\"mode\\\": \\\"NULLABLE\\\",\\n  \\\"description\\\": \\\"Timestamp in UTC.\\\"\\n },\\n {\\n  \\\"name\\\": \\\"doubtful\\\",\\n  \\\"type\\\": \\\"STRING\\\",\\n  \\\"mode\\\": \\\"NULLABLE\\\",\\n  \\\"description\\\": \\\"A \\\\\\\"?\\\\\\\" in the Doubtful column indicates a doubtful runup entry.  An \\\\\\\"M\\\\\\\" indicates the waves likely had a meteorologic source, and thus were not true tsunami waves.\\\"\\n },\\n {\\n  \\\"name\\\": \\\"country\\\",\\n  \\\"type\\\": \\\"STRING\\\",\\n  \\\"mode\\\": \\\"NULLABLE\\\",\\n  \\\"description\\\": \\\"The country where the tsunami effects were observed.\\\"\\n },\\n {\\n  \\\"name\\\": \\\"state\\\",\\n  \\\"type\\\": \\\"STRING\\\",\\n  \\\"mode\\\": \\\"NULLABLE\\\",\\n  \\\"description\\\": \\\"The State, Province or Prefecture where the tsunami effects were observed.\\\"\\n },\\n {\\n  \\\"name\\\": \\\"location_name\\\",\\n  \\\"type\\\": \\\"STRING\\\",\\n  \\\"mode\\\": \\\"NULLABLE\\\",\\n  \\\"description\\\": \\\"The location (city, state or island) where the tsunami effects were observed.\\\"\\n },\\n {\\n  \\\"name\\\": \\\"latitude\\\",\\n  \\\"type\\\": \\\"FLOAT\\\",\\n  \\\"mode\\\": \\\"NULLABLE\\\",\\n  \\\"description\\\": \\\"Valid values: -90 to +90 Latitude: 0 to 90 (Northern Hemisphere) -90 to 0 (Southern Hemisphere)  The latitude and longitude of the location (city, state or island) where the tsunami effects occurred.\\\"\\n },\\n {\\n  \\\"name\\\": \\\"longitude\\\",\\n  \\\"type\\\": \\\"FLOAT\\\",\\n  \\\"mode\\\": \\\"NULLABLE\\\",\\n  \\\"description\\\": \\\"Valid values: -180 to +180 Longitude: 0 to 180 (Eastern Hemisphere) -180 to 0 (Western Hemisphere)  The latitude and longitude of the location (city, state or island) where the tsunami effects occurred.\\\"\\n },\\n {\\n  \\\"name\\\": \\\"region_code\\\",\\n  \\\"type\\\": \\\"INTEGER\\\",\\n  \\\"mode\\\": \\\"NULLABLE\\\",\\n  \\\"description\\\": \\\"Regional boundaries are based on frequency of occurrence of tsunamigenic events, geophysical relations, risk in distant areas and political justification. 77 =\\\\tWest Coast of Africa 78 =\\\\tCentral Africa 73 =\\\\tNortheast Atlantic Ocean 72 =\\\\tNorthwest Atlantic Ocean 70 =\\\\tSoutheast Atlantic Ocean 71 =\\\\tSouthwest Atlantic Ocean 75 =\\\\tE. Coast USA and Canada, St Pierre and Miquelon 76 =\\\\tGulf of Mexico 74 =\\\\tCaribbean Sea and Bermuda 40 =\\\\tBlack Sea and Caspian Sea 50 =\\\\tMediterranean Sea 30 =\\\\tRed Sea and Persian Gulf 60 =\\\\tIndian Ocean (including west coast of Australia) 87 =\\\\tAlaska (including Aleutian Islands) 84 =\\\\tChina, North and South Korea, Philippines, Taiwan 81 =\\\\tE Coast Australia, New Zealand, South Pacific Is. 80 =\\\\tHawaii, Johnston Atoll, Midway I 83 =\\\\tE. Indonesia (Pacific Ocean) and Malaysia 82 =\\\\tNew Caledonia, New Guinea, Solomon Is., Vanuatu 86 =\\\\tKamchatka and Kuril Islands 85 =\\\\tJapan 88 =\\\\tWest Coast of North and Central America 89 =\\\\tWest Coast of South America\\\"\\n },\\n {\\n  \\\"name\\\": \\\"distance_from_source\\\",\\n  \\\"type\\\": \\\"INTEGER\\\",\\n  \\\"mode\\\": \\\"NULLABLE\\\",\\n  \\\"description\\\": \\\"The distance from the tsunami event source to the runup location.\\\"\\n },\\n {\\n  \\\"name\\\": \\\"arr_day\\\",\\n  \\\"type\\\": \\\"INTEGER\\\",\\n  \\\"mode\\\": \\\"NULLABLE\\\",\\n  \\\"description\\\": \\\"\\\"\\n },\\n {\\n  \\\"name\\\": \\\"arr_hour\\\",\\n  \\\"type\\\": \\\"INTEGER\\\",\\n  \\\"mode\\\": \\\"NULLABLE\\\",\\n  \\\"description\\\": \\\"\\\"\\n },\\n {\\n  \\\"name\\\": \\\"arr_min\\\",\\n  \\\"type\\\": \\\"INTEGER\\\",\\n  \\\"mode\\\": \\\"NULLABLE\\\",\\n  \\\"description\\\": \\\"\\\"\\n },\\n {\\n  \\\"name\\\": \\\"travel_time_hours\\\",\\n  \\\"type\\\": \\\"INTEGER\\\",\\n  \\\"mode\\\": \\\"NULLABLE\\\",\\n  \\\"description\\\": \\\"\\\"\\n },\\n {\\n  \\\"name\\\": \\\"travel_time_minutes\\\",\\n  \\\"type\\\": \\\"INTEGER\\\",\\n  \\\"mode\\\": \\\"NULLABLE\\\",\\n  \\\"description\\\": \\\"\\\"\\n },\\n {\\n  \\\"name\\\": \\\"water_ht\\\",\\n  \\\"type\\\": \\\"FLOAT\\\",\\n  \\\"mode\\\": \\\"NULLABLE\\\",\\n  \\\"description\\\": \\\"The maximum water height above sea level in meters. See image and text below for more information. If the type of measurement is:  Type 1: Water height - Eyewitness observation - the maximum elevation the wave. Type 2: Tide Gauge - half of the maximum height (minus the normal tide)of a tsunami wave recorded at the coast by a tide gauge. Type 3: Deep Ocean Gauge - half of the maximum height (minus the normal tide) of a tsunami wave recorded in the open ocean by a seafloor bottom pressure recording system. Type 4: Water height (Post-tsunami survey measurement)  Type 5: Runup Height (Post-tsunami survey measurement)  Type 8: Runup Height in Harbor (Post-tsunami survey measurement)  Type 10: Flow Depth (Post-tsunami survey measurement) depth of the water. Type 9: Splash mark (Post-tsunami survey measurement) Type 6: Atmospheric Wave  Type 7: Seiche\\\"\\n },\\n {\\n  \\\"name\\\": \\\"horizontal_inundation\\\",\\n  \\\"type\\\": \\\"FLOAT\\\",\\n  \\\"mode\\\": \\\"NULLABLE\\\",\\n  \\\"description\\\": \\\"The maximum horizontal distance of inland flooding (in meters)\\\"\\n },\\n {\\n  \\\"name\\\": \\\"type_measurement_id\\\",\\n  \\\"type\\\": \\\"INTEGER\\\",\\n  \\\"mode\\\": \\\"NULLABLE\\\",\\n  \\\"description\\\": \\\"Valid values: 1, 2, 3, 4, 5, 6, 7, 8, 9, 10  See text below for more information. 1 = Eyewitness measurement 5 = Runup Height, Post-tsunami survey measurement 4 = Water height, Post-tsunami survey measurement 8 = Water height in harbor, Post-tsunami survey measurement 10 = Flow Depth, Post-tsunami survey measurement 9 = Splash mark, Post-tsunami survey measurement 2 = Tide-gauge measurement 3 = Deep ocean gauge 6 = Atmospheric Wave 7 = Seiche\\\"\\n },\\n {\\n  \\\"name\\\": \\\"period\\\",\\n  \\\"type\\\": \\\"FLOAT\\\",\\n  \\\"mode\\\": \\\"NULLABLE\\\",\\n  \\\"description\\\": \\\"The period is in minutes and, when available, is the period of the first cycle.\\\"\\n },\\n {\\n  \\\"name\\\": \\\"first_motion\\\",\\n  \\\"type\\\": \\\"STRING\\\",\\n  \\\"mode\\\": \\\"NULLABLE\\\",\\n  \\\"description\\\": \\\"The first motion of the wave whether rise or fall.  R = Rise F = Fall\\\"\\n },\\n {\\n  \\\"name\\\": \\\"deaths\\\",\\n  \\\"type\\\": \\\"INTEGER\\\",\\n  \\\"mode\\\": \\\"NULLABLE\\\",\\n  \\\"description\\\": \\\"Deaths from the tsunami at the specific runup location.\\\"\\n },\\n {\\n  \\\"name\\\": \\\"deaths_description\\\",\\n  \\\"type\\\": \\\"INTEGER\\\",\\n  \\\"mode\\\": \\\"NULLABLE\\\",\\n  \\\"description\\\": \\\"Valid values: 0 to 4 When a description was found in the historical literature instead of an actual number of deaths, this value was coded and listed in the Deaths De column. If the actual number of deaths was listed, a descriptor was also added for search purposes.  0 = None 1 = Few (~1 to 50 deaths) 2 = Some (~51 to 100 deaths) 3 = Many (~101 to 1000 deaths) 4 = Very Many (~1001 or more deaths)\\\"\\n },\\n {\\n  \\\"name\\\": \\\"injuries\\\",\\n  \\\"type\\\": \\\"INTEGER\\\",\\n  \\\"mode\\\": \\\"NULLABLE\\\",\\n  \\\"description\\\": \\\"Whenever possible, numbers of injuries from the tsunami at the specific runup location are listed; may also include injuries from the earthquake that triggered the tsunami.\\\"\\n },\\n {\\n  \\\"name\\\": \\\"injuries_description\\\",\\n  \\\"type\\\": \\\"INTEGER\\\",\\n  \\\"mode\\\": \\\"NULLABLE\\\",\\n  \\\"description\\\": \\\"Valid values: 0 to 4 When a description was found in the historical literature instead of an actual number of injuries, this value was coded and listed in the Injuries De column. If the actual number of injuries was listed, a descriptor was also added for search purposes.  0 = None 1 = Few (~1 to 50 injuries) 2 = Some(~51 to 100 injuries) 3 = Many (~101 to 1000 injuries) 4 = Very Many (~1001 or more injuries)\\\"\\n },\\n {\\n  \\\"name\\\": \\\"damage_millions_dollars\\\",\\n  \\\"type\\\": \\\"FLOAT\\\",\\n  \\\"mode\\\": \\\"NULLABLE\\\",\\n  \\\"description\\\": \\\"The value in the Damage column should be multipled by 1,000,000 to obtain the actual dollar amount.  When a dollar amount for damage was found in the literature, it was listed in the Damage column in millions of U.S. dollars. The dollar value listed is the value at the time of the event. To convert the damage to current dollar values today, please use the Consumer Price Index Calculator. Monetary conversion tables for the time of the event were used to convert foreign currency to U.S. dollars.\\\"\\n },\\n {\\n  \\\"name\\\": \\\"damage_description\\\",\\n  \\\"type\\\": \\\"INTEGER\\\",\\n  \\\"mode\\\": \\\"NULLABLE\\\",\\n  \\\"description\\\": \\\"For those events not offering a monetary evaluation of damage, the following five-level scale was used to classify damage (1990 dollars) and was listed in the Damage De column. If the actual dollar amount of damage was listed, a descriptor was also added for search purposes.  0 = NONE 1 = LIMITED (roughly corresponding to less than $1 million) 2 = MODERATE (~$1 to $5 million) 3 = SEVERE (~>$5 to $24 million) 4 = EXTREME (~$25 million or more)\\\"\\n },\\n {\\n  \\\"name\\\": \\\"houses_damaged\\\",\\n  \\\"type\\\": \\\"INTEGER\\\",\\n  \\\"mode\\\": \\\"NULLABLE\\\",\\n  \\\"description\\\": \\\"Valid values: 0 to Whenever possible, number of houses damaged by the tsunami at the specific runup location are listed; may also include houses damaged by the earthquake that triggered the tsunami.\\\"\\n },\\n {\\n  \\\"name\\\": \\\"houses_damaged_description\\\",\\n  \\\"type\\\": \\\"INTEGER\\\",\\n  \\\"mode\\\": \\\"NULLABLE\\\",\\n  \\\"description\\\": \\\"Valid values: 0 to 4 For those events not offering an exact number of houses damaged, the following four-level scale was used to classify the damage and was listed in the Houses Damaged De column. If the actual number of houses damaged was listed, a descriptor was also added for search purposes.  0 = None 1 = Few (~1 to 50 houses) 2 = Some (~51 to 100 houses) 3 = Many (~101 to 1000 houses) 4 = Very Many (~1001 or more houses)\\\"\\n },\\n {\\n  \\\"name\\\": \\\"houses_destroyed\\\",\\n  \\\"type\\\": \\\"INTEGER\\\",\\n  \\\"mode\\\": \\\"NULLABLE\\\",\\n  \\\"description\\\": \\\"Whenever possible, number of houses destroyed by the tsunami at the specific runup location are listed; may also include houses destroyed by the earthquake that triggered the tsunami.\\\"\\n },\\n {\\n  \\\"name\\\": \\\"houses_destroyed_description\\\",\\n  \\\"type\\\": \\\"INTEGER\\\",\\n  \\\"mode\\\": \\\"NULLABLE\\\",\\n  \\\"description\\\": \\\"Valid values: 0 to 4 For those events not offering an exact number of houses destroyed, the following four-level scale was used to classify the destruction and was listed in the Houses Destroyed De column. If the actual number of houses destroyed was listed, a descriptor was also added for search purposes.  0 = None 1 = Few (~1 to 50 houses) 2 = Some (~51 to 100 houses) 3 = Many (~101 to 1000 houses) 4 = Very Many (~1001 or more houses)\\\"\\n }\\n]```\\n\\n\\nCreate a BigQuery SQL query for the following user input, using the above table.\\n\\nThe user and the agent have done this conversation so far:\\n\\n\\nFollow these restrictions strictly:\\n- Only return the SQL code.\\n- Do not add backticks or any markup. Only write the query as output. NOTHING ELSE.\\n- In FROM, always use the full table path, using `bigquery-public-data` as project and `noaa_tsunami` as dataset.\\n- Always transform country names to full uppercase. For instance, if the country is Japan, you should use JAPAN in the query.\\n\\nUser input: Which countries in Asia had more houses damaged? Give me the top 3\\n\\nSQL query:\\n\"\n",
            "  }\n",
            "}\n",
            "\u001b[32;1m\u001b[1;3m[llm/start]\u001b[0m \u001b[1m[1:chain:RunnableSequence > 7:llm:ChatVertexAI] Entering LLM run with input:\n",
            "\u001b[0m{\n",
            "  \"prompts\": [\n",
            "    \"Human: You are a SQL and BigQuery expert.\\n\\nYour job is to create a query for BigQuery in SQL.\\n\\nThe following paragraph contains the schema of the table used for a query. It is encoded in JSON format.\\n\\nThe schema for table historical_runups is the following: \\n```[\\n {\\n  \\\"name\\\": \\\"id\\\",\\n  \\\"type\\\": \\\"INTEGER\\\",\\n  \\\"mode\\\": \\\"NULLABLE\\\",\\n  \\\"description\\\": \\\"The unique numeric identifier of the record.\\\"\\n },\\n {\\n  \\\"name\\\": \\\"tsevent_id\\\",\\n  \\\"type\\\": \\\"INTEGER\\\",\\n  \\\"mode\\\": \\\"NULLABLE\\\",\\n  \\\"description\\\": \\\"The unique numeric identifier of the tsunami source event record that links the runup with the event.\\\"\\n },\\n {\\n  \\\"name\\\": \\\"year\\\",\\n  \\\"type\\\": \\\"INTEGER\\\",\\n  \\\"mode\\\": \\\"NULLABLE\\\",\\n  \\\"description\\\": \\\"Valid values: -2000 to Present Format +/-yyyy (-is B.C, +is A.D.)  The Date and Time are given in Universal Coordinated Time (also known as Greenwich Mean Time). The local date may be one day different.\\\"\\n },\\n {\\n  \\\"name\\\": \\\"month\\\",\\n  \\\"type\\\": \\\"INTEGER\\\",\\n  \\\"mode\\\": \\\"NULLABLE\\\",\\n  \\\"description\\\": \\\"Valid values: 1-12 The Date and Time are given in Universal Coordinated Time (also known as Greenwich Mean Time). The local date may be one day different.\\\"\\n },\\n {\\n  \\\"name\\\": \\\"day\\\",\\n  \\\"type\\\": \\\"INTEGER\\\",\\n  \\\"mode\\\": \\\"NULLABLE\\\",\\n  \\\"description\\\": \\\"Valid values: 1-31 (where months apply) The Date and Time are given in Universal Coordinated Time (also known as Greenwich Mean Time). The local date may be one day different.\\\"\\n },\\n {\\n  \\\"name\\\": \\\"timestamp\\\",\\n  \\\"type\\\": \\\"DATETIME\\\",\\n  \\\"mode\\\": \\\"NULLABLE\\\",\\n  \\\"description\\\": \\\"Timestamp in UTC.\\\"\\n },\\n {\\n  \\\"name\\\": \\\"doubtful\\\",\\n  \\\"type\\\": \\\"STRING\\\",\\n  \\\"mode\\\": \\\"NULLABLE\\\",\\n  \\\"description\\\": \\\"A \\\\\\\"?\\\\\\\" in the Doubtful column indicates a doubtful runup entry.  An \\\\\\\"M\\\\\\\" indicates the waves likely had a meteorologic source, and thus were not true tsunami waves.\\\"\\n },\\n {\\n  \\\"name\\\": \\\"country\\\",\\n  \\\"type\\\": \\\"STRING\\\",\\n  \\\"mode\\\": \\\"NULLABLE\\\",\\n  \\\"description\\\": \\\"The country where the tsunami effects were observed.\\\"\\n },\\n {\\n  \\\"name\\\": \\\"state\\\",\\n  \\\"type\\\": \\\"STRING\\\",\\n  \\\"mode\\\": \\\"NULLABLE\\\",\\n  \\\"description\\\": \\\"The State, Province or Prefecture where the tsunami effects were observed.\\\"\\n },\\n {\\n  \\\"name\\\": \\\"location_name\\\",\\n  \\\"type\\\": \\\"STRING\\\",\\n  \\\"mode\\\": \\\"NULLABLE\\\",\\n  \\\"description\\\": \\\"The location (city, state or island) where the tsunami effects were observed.\\\"\\n },\\n {\\n  \\\"name\\\": \\\"latitude\\\",\\n  \\\"type\\\": \\\"FLOAT\\\",\\n  \\\"mode\\\": \\\"NULLABLE\\\",\\n  \\\"description\\\": \\\"Valid values: -90 to +90 Latitude: 0 to 90 (Northern Hemisphere) -90 to 0 (Southern Hemisphere)  The latitude and longitude of the location (city, state or island) where the tsunami effects occurred.\\\"\\n },\\n {\\n  \\\"name\\\": \\\"longitude\\\",\\n  \\\"type\\\": \\\"FLOAT\\\",\\n  \\\"mode\\\": \\\"NULLABLE\\\",\\n  \\\"description\\\": \\\"Valid values: -180 to +180 Longitude: 0 to 180 (Eastern Hemisphere) -180 to 0 (Western Hemisphere)  The latitude and longitude of the location (city, state or island) where the tsunami effects occurred.\\\"\\n },\\n {\\n  \\\"name\\\": \\\"region_code\\\",\\n  \\\"type\\\": \\\"INTEGER\\\",\\n  \\\"mode\\\": \\\"NULLABLE\\\",\\n  \\\"description\\\": \\\"Regional boundaries are based on frequency of occurrence of tsunamigenic events, geophysical relations, risk in distant areas and political justification. 77 =\\\\tWest Coast of Africa 78 =\\\\tCentral Africa 73 =\\\\tNortheast Atlantic Ocean 72 =\\\\tNorthwest Atlantic Ocean 70 =\\\\tSoutheast Atlantic Ocean 71 =\\\\tSouthwest Atlantic Ocean 75 =\\\\tE. Coast USA and Canada, St Pierre and Miquelon 76 =\\\\tGulf of Mexico 74 =\\\\tCaribbean Sea and Bermuda 40 =\\\\tBlack Sea and Caspian Sea 50 =\\\\tMediterranean Sea 30 =\\\\tRed Sea and Persian Gulf 60 =\\\\tIndian Ocean (including west coast of Australia) 87 =\\\\tAlaska (including Aleutian Islands) 84 =\\\\tChina, North and South Korea, Philippines, Taiwan 81 =\\\\tE Coast Australia, New Zealand, South Pacific Is. 80 =\\\\tHawaii, Johnston Atoll, Midway I 83 =\\\\tE. Indonesia (Pacific Ocean) and Malaysia 82 =\\\\tNew Caledonia, New Guinea, Solomon Is., Vanuatu 86 =\\\\tKamchatka and Kuril Islands 85 =\\\\tJapan 88 =\\\\tWest Coast of North and Central America 89 =\\\\tWest Coast of South America\\\"\\n },\\n {\\n  \\\"name\\\": \\\"distance_from_source\\\",\\n  \\\"type\\\": \\\"INTEGER\\\",\\n  \\\"mode\\\": \\\"NULLABLE\\\",\\n  \\\"description\\\": \\\"The distance from the tsunami event source to the runup location.\\\"\\n },\\n {\\n  \\\"name\\\": \\\"arr_day\\\",\\n  \\\"type\\\": \\\"INTEGER\\\",\\n  \\\"mode\\\": \\\"NULLABLE\\\",\\n  \\\"description\\\": \\\"\\\"\\n },\\n {\\n  \\\"name\\\": \\\"arr_hour\\\",\\n  \\\"type\\\": \\\"INTEGER\\\",\\n  \\\"mode\\\": \\\"NULLABLE\\\",\\n  \\\"description\\\": \\\"\\\"\\n },\\n {\\n  \\\"name\\\": \\\"arr_min\\\",\\n  \\\"type\\\": \\\"INTEGER\\\",\\n  \\\"mode\\\": \\\"NULLABLE\\\",\\n  \\\"description\\\": \\\"\\\"\\n },\\n {\\n  \\\"name\\\": \\\"travel_time_hours\\\",\\n  \\\"type\\\": \\\"INTEGER\\\",\\n  \\\"mode\\\": \\\"NULLABLE\\\",\\n  \\\"description\\\": \\\"\\\"\\n },\\n {\\n  \\\"name\\\": \\\"travel_time_minutes\\\",\\n  \\\"type\\\": \\\"INTEGER\\\",\\n  \\\"mode\\\": \\\"NULLABLE\\\",\\n  \\\"description\\\": \\\"\\\"\\n },\\n {\\n  \\\"name\\\": \\\"water_ht\\\",\\n  \\\"type\\\": \\\"FLOAT\\\",\\n  \\\"mode\\\": \\\"NULLABLE\\\",\\n  \\\"description\\\": \\\"The maximum water height above sea level in meters. See image and text below for more information. If the type of measurement is:  Type 1: Water height - Eyewitness observation - the maximum elevation the wave. Type 2: Tide Gauge - half of the maximum height (minus the normal tide)of a tsunami wave recorded at the coast by a tide gauge. Type 3: Deep Ocean Gauge - half of the maximum height (minus the normal tide) of a tsunami wave recorded in the open ocean by a seafloor bottom pressure recording system. Type 4: Water height (Post-tsunami survey measurement)  Type 5: Runup Height (Post-tsunami survey measurement)  Type 8: Runup Height in Harbor (Post-tsunami survey measurement)  Type 10: Flow Depth (Post-tsunami survey measurement) depth of the water. Type 9: Splash mark (Post-tsunami survey measurement) Type 6: Atmospheric Wave  Type 7: Seiche\\\"\\n },\\n {\\n  \\\"name\\\": \\\"horizontal_inundation\\\",\\n  \\\"type\\\": \\\"FLOAT\\\",\\n  \\\"mode\\\": \\\"NULLABLE\\\",\\n  \\\"description\\\": \\\"The maximum horizontal distance of inland flooding (in meters)\\\"\\n },\\n {\\n  \\\"name\\\": \\\"type_measurement_id\\\",\\n  \\\"type\\\": \\\"INTEGER\\\",\\n  \\\"mode\\\": \\\"NULLABLE\\\",\\n  \\\"description\\\": \\\"Valid values: 1, 2, 3, 4, 5, 6, 7, 8, 9, 10  See text below for more information. 1 = Eyewitness measurement 5 = Runup Height, Post-tsunami survey measurement 4 = Water height, Post-tsunami survey measurement 8 = Water height in harbor, Post-tsunami survey measurement 10 = Flow Depth, Post-tsunami survey measurement 9 = Splash mark, Post-tsunami survey measurement 2 = Tide-gauge measurement 3 = Deep ocean gauge 6 = Atmospheric Wave 7 = Seiche\\\"\\n },\\n {\\n  \\\"name\\\": \\\"period\\\",\\n  \\\"type\\\": \\\"FLOAT\\\",\\n  \\\"mode\\\": \\\"NULLABLE\\\",\\n  \\\"description\\\": \\\"The period is in minutes and, when available, is the period of the first cycle.\\\"\\n },\\n {\\n  \\\"name\\\": \\\"first_motion\\\",\\n  \\\"type\\\": \\\"STRING\\\",\\n  \\\"mode\\\": \\\"NULLABLE\\\",\\n  \\\"description\\\": \\\"The first motion of the wave whether rise or fall.  R = Rise F = Fall\\\"\\n },\\n {\\n  \\\"name\\\": \\\"deaths\\\",\\n  \\\"type\\\": \\\"INTEGER\\\",\\n  \\\"mode\\\": \\\"NULLABLE\\\",\\n  \\\"description\\\": \\\"Deaths from the tsunami at the specific runup location.\\\"\\n },\\n {\\n  \\\"name\\\": \\\"deaths_description\\\",\\n  \\\"type\\\": \\\"INTEGER\\\",\\n  \\\"mode\\\": \\\"NULLABLE\\\",\\n  \\\"description\\\": \\\"Valid values: 0 to 4 When a description was found in the historical literature instead of an actual number of deaths, this value was coded and listed in the Deaths De column. If the actual number of deaths was listed, a descriptor was also added for search purposes.  0 = None 1 = Few (~1 to 50 deaths) 2 = Some (~51 to 100 deaths) 3 = Many (~101 to 1000 deaths) 4 = Very Many (~1001 or more deaths)\\\"\\n },\\n {\\n  \\\"name\\\": \\\"injuries\\\",\\n  \\\"type\\\": \\\"INTEGER\\\",\\n  \\\"mode\\\": \\\"NULLABLE\\\",\\n  \\\"description\\\": \\\"Whenever possible, numbers of injuries from the tsunami at the specific runup location are listed; may also include injuries from the earthquake that triggered the tsunami.\\\"\\n },\\n {\\n  \\\"name\\\": \\\"injuries_description\\\",\\n  \\\"type\\\": \\\"INTEGER\\\",\\n  \\\"mode\\\": \\\"NULLABLE\\\",\\n  \\\"description\\\": \\\"Valid values: 0 to 4 When a description was found in the historical literature instead of an actual number of injuries, this value was coded and listed in the Injuries De column. If the actual number of injuries was listed, a descriptor was also added for search purposes.  0 = None 1 = Few (~1 to 50 injuries) 2 = Some(~51 to 100 injuries) 3 = Many (~101 to 1000 injuries) 4 = Very Many (~1001 or more injuries)\\\"\\n },\\n {\\n  \\\"name\\\": \\\"damage_millions_dollars\\\",\\n  \\\"type\\\": \\\"FLOAT\\\",\\n  \\\"mode\\\": \\\"NULLABLE\\\",\\n  \\\"description\\\": \\\"The value in the Damage column should be multipled by 1,000,000 to obtain the actual dollar amount.  When a dollar amount for damage was found in the literature, it was listed in the Damage column in millions of U.S. dollars. The dollar value listed is the value at the time of the event. To convert the damage to current dollar values today, please use the Consumer Price Index Calculator. Monetary conversion tables for the time of the event were used to convert foreign currency to U.S. dollars.\\\"\\n },\\n {\\n  \\\"name\\\": \\\"damage_description\\\",\\n  \\\"type\\\": \\\"INTEGER\\\",\\n  \\\"mode\\\": \\\"NULLABLE\\\",\\n  \\\"description\\\": \\\"For those events not offering a monetary evaluation of damage, the following five-level scale was used to classify damage (1990 dollars) and was listed in the Damage De column. If the actual dollar amount of damage was listed, a descriptor was also added for search purposes.  0 = NONE 1 = LIMITED (roughly corresponding to less than $1 million) 2 = MODERATE (~$1 to $5 million) 3 = SEVERE (~>$5 to $24 million) 4 = EXTREME (~$25 million or more)\\\"\\n },\\n {\\n  \\\"name\\\": \\\"houses_damaged\\\",\\n  \\\"type\\\": \\\"INTEGER\\\",\\n  \\\"mode\\\": \\\"NULLABLE\\\",\\n  \\\"description\\\": \\\"Valid values: 0 to Whenever possible, number of houses damaged by the tsunami at the specific runup location are listed; may also include houses damaged by the earthquake that triggered the tsunami.\\\"\\n },\\n {\\n  \\\"name\\\": \\\"houses_damaged_description\\\",\\n  \\\"type\\\": \\\"INTEGER\\\",\\n  \\\"mode\\\": \\\"NULLABLE\\\",\\n  \\\"description\\\": \\\"Valid values: 0 to 4 For those events not offering an exact number of houses damaged, the following four-level scale was used to classify the damage and was listed in the Houses Damaged De column. If the actual number of houses damaged was listed, a descriptor was also added for search purposes.  0 = None 1 = Few (~1 to 50 houses) 2 = Some (~51 to 100 houses) 3 = Many (~101 to 1000 houses) 4 = Very Many (~1001 or more houses)\\\"\\n },\\n {\\n  \\\"name\\\": \\\"houses_destroyed\\\",\\n  \\\"type\\\": \\\"INTEGER\\\",\\n  \\\"mode\\\": \\\"NULLABLE\\\",\\n  \\\"description\\\": \\\"Whenever possible, number of houses destroyed by the tsunami at the specific runup location are listed; may also include houses destroyed by the earthquake that triggered the tsunami.\\\"\\n },\\n {\\n  \\\"name\\\": \\\"houses_destroyed_description\\\",\\n  \\\"type\\\": \\\"INTEGER\\\",\\n  \\\"mode\\\": \\\"NULLABLE\\\",\\n  \\\"description\\\": \\\"Valid values: 0 to 4 For those events not offering an exact number of houses destroyed, the following four-level scale was used to classify the destruction and was listed in the Houses Destroyed De column. If the actual number of houses destroyed was listed, a descriptor was also added for search purposes.  0 = None 1 = Few (~1 to 50 houses) 2 = Some (~51 to 100 houses) 3 = Many (~101 to 1000 houses) 4 = Very Many (~1001 or more houses)\\\"\\n }\\n]```\\n\\n\\nCreate a BigQuery SQL query for the following user input, using the above table.\\n\\nThe user and the agent have done this conversation so far:\\n\\n\\nFollow these restrictions strictly:\\n- Only return the SQL code.\\n- Do not add backticks or any markup. Only write the query as output. NOTHING ELSE.\\n- In FROM, always use the full table path, using `bigquery-public-data` as project and `noaa_tsunami` as dataset.\\n- Always transform country names to full uppercase. For instance, if the country is Japan, you should use JAPAN in the query.\\n\\nUser input: Which countries in Asia had more houses damaged? Give me the top 3\\n\\nSQL query:\"\n",
            "  ]\n",
            "}\n",
            "\u001b[36;1m\u001b[1;3m[llm/end]\u001b[0m \u001b[1m[1:chain:RunnableSequence > 7:llm:ChatVertexAI] [2.69s] Exiting LLM run with output:\n",
            "\u001b[0m{\n",
            "  \"generations\": [\n",
            "    [\n",
            "      {\n",
            "        \"text\": \" ```sql\\nSELECT\\n  COUNTRY,\\n  SUM(HOUSES_DAMAGED) AS TOTAL_HOUSES_DAMAGED\\nFROM\\n  `bigquery-public-data.noaa_tsunami.historical_runups`\\nWHERE\\n  COUNTRY LIKE \\\"%ASIA%\\\"\\nGROUP BY\\n  COUNTRY\\nORDER BY\\n  TOTAL_HOUSES_DAMAGED DESC\\nLIMIT 3;\\n```\",\n",
            "        \"generation_info\": null,\n",
            "        \"type\": \"ChatGeneration\",\n",
            "        \"message\": {\n",
            "          \"lc\": 1,\n",
            "          \"type\": \"constructor\",\n",
            "          \"id\": [\n",
            "            \"langchain\",\n",
            "            \"schema\",\n",
            "            \"messages\",\n",
            "            \"AIMessage\"\n",
            "          ],\n",
            "          \"kwargs\": {\n",
            "            \"content\": \" ```sql\\nSELECT\\n  COUNTRY,\\n  SUM(HOUSES_DAMAGED) AS TOTAL_HOUSES_DAMAGED\\nFROM\\n  `bigquery-public-data.noaa_tsunami.historical_runups`\\nWHERE\\n  COUNTRY LIKE \\\"%ASIA%\\\"\\nGROUP BY\\n  COUNTRY\\nORDER BY\\n  TOTAL_HOUSES_DAMAGED DESC\\nLIMIT 3;\\n```\"\n",
            "          }\n",
            "        }\n",
            "      }\n",
            "    ]\n",
            "  ],\n",
            "  \"llm_output\": null,\n",
            "  \"run\": null\n",
            "}\n",
            "\u001b[32;1m\u001b[1;3m[chain/start]\u001b[0m \u001b[1m[1:chain:RunnableSequence > 8:parser:StrOutputParser] Entering Parser run with input:\n",
            "\u001b[0m[inputs]\n",
            "\u001b[36;1m\u001b[1;3m[chain/end]\u001b[0m \u001b[1m[1:chain:RunnableSequence > 8:parser:StrOutputParser] [0ms] Exiting Parser run with output:\n",
            "\u001b[0m{\n",
            "  \"output\": \" ```sql\\nSELECT\\n  COUNTRY,\\n  SUM(HOUSES_DAMAGED) AS TOTAL_HOUSES_DAMAGED\\nFROM\\n  `bigquery-public-data.noaa_tsunami.historical_runups`\\nWHERE\\n  COUNTRY LIKE \\\"%ASIA%\\\"\\nGROUP BY\\n  COUNTRY\\nORDER BY\\n  TOTAL_HOUSES_DAMAGED DESC\\nLIMIT 3;\\n```\"\n",
            "}\n",
            "\u001b[36;1m\u001b[1;3m[chain/end]\u001b[0m \u001b[1m[1:chain:RunnableSequence] [3.59s] Exiting Chain run with output:\n",
            "\u001b[0m{\n",
            "  \"output\": \" ```sql\\nSELECT\\n  COUNTRY,\\n  SUM(HOUSES_DAMAGED) AS TOTAL_HOUSES_DAMAGED\\nFROM\\n  `bigquery-public-data.noaa_tsunami.historical_runups`\\nWHERE\\n  COUNTRY LIKE \\\"%ASIA%\\\"\\nGROUP BY\\n  COUNTRY\\nORDER BY\\n  TOTAL_HOUSES_DAMAGED DESC\\nLIMIT 3;\\n```\"\n",
            "}\n",
            " ```sql\n",
            "SELECT\n",
            "  COUNTRY,\n",
            "  SUM(HOUSES_DAMAGED) AS TOTAL_HOUSES_DAMAGED\n",
            "FROM\n",
            "  `bigquery-public-data.noaa_tsunami.historical_runups`\n",
            "WHERE\n",
            "  COUNTRY LIKE \"%ASIA%\"\n",
            "GROUP BY\n",
            "  COUNTRY\n",
            "ORDER BY\n",
            "  TOTAL_HOUSES_DAMAGED DESC\n",
            "LIMIT 3;\n",
            "```\n"
          ]
        }
      ]
    },
    {
      "cell_type": "markdown",
      "source": [
        "# Add more outputs to the previous chain"
      ],
      "metadata": {
        "id": "85Zha4ZCQFSU"
      }
    },
    {
      "cell_type": "code",
      "source": [
        "from langchain.output_parsers import ResponseSchema, StructuredOutputParser\n",
        "from langchain.schema.runnable import RunnableLambda\n",
        "\n",
        "def _dict_to_json(x: dict) -> str:\n",
        "  return \"```\\n\" + json.dumps(x) + \"\\n```\"\n",
        "\n",
        "query_response_schema = [\n",
        "    ResponseSchema(name=\"query\", description=\"SQL query to solve the user question.\"),\n",
        "    ResponseSchema(name=\"question\", description=\"Question asked by the user.\"),\n",
        "    ResponseSchema(name=\"context\", description=\"Documents retrieved from the vector store.\")\n",
        "  ]\n",
        "query_output_parser = StructuredOutputParser.from_response_schemas(query_response_schema)\n",
        "query_output_json = docs | question | {\"query\": query} | RunnableLambda(_dict_to_json) | StrOutputParser()\n",
        "query_output = query_output_json | query_output_parser"
      ],
      "metadata": {
        "id": "WEdgWhHnQJBe"
      },
      "execution_count": 16,
      "outputs": []
    },
    {
      "cell_type": "code",
      "source": [
        "# Example\n",
        "x = {\"input\": \"Which countries in Asia had more houses damaged? Give me the top 3\", \"chat_history\": \"\"}\n",
        "query_output.invoke(x)  # Output is now a dictionary, input for the next chain"
      ],
      "metadata": {
        "collapsed": true,
        "id": "MCQTMjDvQXeu",
        "outputId": "c585c293-4c10-4ae3-acf0-584ef3c0c6f4",
        "colab": {
          "base_uri": "https://localhost:8080/"
        }
      },
      "execution_count": 28,
      "outputs": [
        {
          "output_type": "execute_result",
          "data": {
            "text/plain": [
              "{'context': 'The schema for table historical_runups is the following: \\n```[\\n {\\n  \"name\": \"id\",\\n  \"type\": \"INTEGER\",\\n  \"mode\": \"NULLABLE\",\\n  \"description\": \"The unique numeric identifier of the record.\"\\n },\\n {\\n  \"name\": \"tsevent_id\",\\n  \"type\": \"INTEGER\",\\n  \"mode\": \"NULLABLE\",\\n  \"description\": \"The unique numeric identifier of the tsunami source event record that links the runup with the event.\"\\n },\\n {\\n  \"name\": \"year\",\\n  \"type\": \"INTEGER\",\\n  \"mode\": \"NULLABLE\",\\n  \"description\": \"Valid values: -2000 to Present Format +/-yyyy (-is B.C, +is A.D.)  The Date and Time are given in Universal Coordinated Time (also known as Greenwich Mean Time). The local date may be one day different.\"\\n },\\n {\\n  \"name\": \"month\",\\n  \"type\": \"INTEGER\",\\n  \"mode\": \"NULLABLE\",\\n  \"description\": \"Valid values: 1-12 The Date and Time are given in Universal Coordinated Time (also known as Greenwich Mean Time). The local date may be one day different.\"\\n },\\n {\\n  \"name\": \"day\",\\n  \"type\": \"INTEGER\",\\n  \"mode\": \"NULLABLE\",\\n  \"description\": \"Valid values: 1-31 (where months apply) The Date and Time are given in Universal Coordinated Time (also known as Greenwich Mean Time). The local date may be one day different.\"\\n },\\n {\\n  \"name\": \"timestamp\",\\n  \"type\": \"DATETIME\",\\n  \"mode\": \"NULLABLE\",\\n  \"description\": \"Timestamp in UTC.\"\\n },\\n {\\n  \"name\": \"doubtful\",\\n  \"type\": \"STRING\",\\n  \"mode\": \"NULLABLE\",\\n  \"description\": \"A \\\\\"?\\\\\" in the Doubtful column indicates a doubtful runup entry.  An \\\\\"M\\\\\" indicates the waves likely had a meteorologic source, and thus were not true tsunami waves.\"\\n },\\n {\\n  \"name\": \"country\",\\n  \"type\": \"STRING\",\\n  \"mode\": \"NULLABLE\",\\n  \"description\": \"The country where the tsunami effects were observed.\"\\n },\\n {\\n  \"name\": \"state\",\\n  \"type\": \"STRING\",\\n  \"mode\": \"NULLABLE\",\\n  \"description\": \"The State, Province or Prefecture where the tsunami effects were observed.\"\\n },\\n {\\n  \"name\": \"location_name\",\\n  \"type\": \"STRING\",\\n  \"mode\": \"NULLABLE\",\\n  \"description\": \"The location (city, state or island) where the tsunami effects were observed.\"\\n },\\n {\\n  \"name\": \"latitude\",\\n  \"type\": \"FLOAT\",\\n  \"mode\": \"NULLABLE\",\\n  \"description\": \"Valid values: -90 to +90 Latitude: 0 to 90 (Northern Hemisphere) -90 to 0 (Southern Hemisphere)  The latitude and longitude of the location (city, state or island) where the tsunami effects occurred.\"\\n },\\n {\\n  \"name\": \"longitude\",\\n  \"type\": \"FLOAT\",\\n  \"mode\": \"NULLABLE\",\\n  \"description\": \"Valid values: -180 to +180 Longitude: 0 to 180 (Eastern Hemisphere) -180 to 0 (Western Hemisphere)  The latitude and longitude of the location (city, state or island) where the tsunami effects occurred.\"\\n },\\n {\\n  \"name\": \"region_code\",\\n  \"type\": \"INTEGER\",\\n  \"mode\": \"NULLABLE\",\\n  \"description\": \"Regional boundaries are based on frequency of occurrence of tsunamigenic events, geophysical relations, risk in distant areas and political justification. 77 =\\\\tWest Coast of Africa 78 =\\\\tCentral Africa 73 =\\\\tNortheast Atlantic Ocean 72 =\\\\tNorthwest Atlantic Ocean 70 =\\\\tSoutheast Atlantic Ocean 71 =\\\\tSouthwest Atlantic Ocean 75 =\\\\tE. Coast USA and Canada, St Pierre and Miquelon 76 =\\\\tGulf of Mexico 74 =\\\\tCaribbean Sea and Bermuda 40 =\\\\tBlack Sea and Caspian Sea 50 =\\\\tMediterranean Sea 30 =\\\\tRed Sea and Persian Gulf 60 =\\\\tIndian Ocean (including west coast of Australia) 87 =\\\\tAlaska (including Aleutian Islands) 84 =\\\\tChina, North and South Korea, Philippines, Taiwan 81 =\\\\tE Coast Australia, New Zealand, South Pacific Is. 80 =\\\\tHawaii, Johnston Atoll, Midway I 83 =\\\\tE. Indonesia (Pacific Ocean) and Malaysia 82 =\\\\tNew Caledonia, New Guinea, Solomon Is., Vanuatu 86 =\\\\tKamchatka and Kuril Islands 85 =\\\\tJapan 88 =\\\\tWest Coast of North and Central America 89 =\\\\tWest Coast of South America\"\\n },\\n {\\n  \"name\": \"distance_from_source\",\\n  \"type\": \"INTEGER\",\\n  \"mode\": \"NULLABLE\",\\n  \"description\": \"The distance from the tsunami event source to the runup location.\"\\n },\\n {\\n  \"name\": \"arr_day\",\\n  \"type\": \"INTEGER\",\\n  \"mode\": \"NULLABLE\",\\n  \"description\": \"\"\\n },\\n {\\n  \"name\": \"arr_hour\",\\n  \"type\": \"INTEGER\",\\n  \"mode\": \"NULLABLE\",\\n  \"description\": \"\"\\n },\\n {\\n  \"name\": \"arr_min\",\\n  \"type\": \"INTEGER\",\\n  \"mode\": \"NULLABLE\",\\n  \"description\": \"\"\\n },\\n {\\n  \"name\": \"travel_time_hours\",\\n  \"type\": \"INTEGER\",\\n  \"mode\": \"NULLABLE\",\\n  \"description\": \"\"\\n },\\n {\\n  \"name\": \"travel_time_minutes\",\\n  \"type\": \"INTEGER\",\\n  \"mode\": \"NULLABLE\",\\n  \"description\": \"\"\\n },\\n {\\n  \"name\": \"water_ht\",\\n  \"type\": \"FLOAT\",\\n  \"mode\": \"NULLABLE\",\\n  \"description\": \"The maximum water height above sea level in meters. See image and text below for more information. If the type of measurement is:  Type 1: Water height - Eyewitness observation - the maximum elevation the wave. Type 2: Tide Gauge - half of the maximum height (minus the normal tide)of a tsunami wave recorded at the coast by a tide gauge. Type 3: Deep Ocean Gauge - half of the maximum height (minus the normal tide) of a tsunami wave recorded in the open ocean by a seafloor bottom pressure recording system. Type 4: Water height (Post-tsunami survey measurement)  Type 5: Runup Height (Post-tsunami survey measurement)  Type 8: Runup Height in Harbor (Post-tsunami survey measurement)  Type 10: Flow Depth (Post-tsunami survey measurement) depth of the water. Type 9: Splash mark (Post-tsunami survey measurement) Type 6: Atmospheric Wave  Type 7: Seiche\"\\n },\\n {\\n  \"name\": \"horizontal_inundation\",\\n  \"type\": \"FLOAT\",\\n  \"mode\": \"NULLABLE\",\\n  \"description\": \"The maximum horizontal distance of inland flooding (in meters)\"\\n },\\n {\\n  \"name\": \"type_measurement_id\",\\n  \"type\": \"INTEGER\",\\n  \"mode\": \"NULLABLE\",\\n  \"description\": \"Valid values: 1, 2, 3, 4, 5, 6, 7, 8, 9, 10  See text below for more information. 1 = Eyewitness measurement 5 = Runup Height, Post-tsunami survey measurement 4 = Water height, Post-tsunami survey measurement 8 = Water height in harbor, Post-tsunami survey measurement 10 = Flow Depth, Post-tsunami survey measurement 9 = Splash mark, Post-tsunami survey measurement 2 = Tide-gauge measurement 3 = Deep ocean gauge 6 = Atmospheric Wave 7 = Seiche\"\\n },\\n {\\n  \"name\": \"period\",\\n  \"type\": \"FLOAT\",\\n  \"mode\": \"NULLABLE\",\\n  \"description\": \"The period is in minutes and, when available, is the period of the first cycle.\"\\n },\\n {\\n  \"name\": \"first_motion\",\\n  \"type\": \"STRING\",\\n  \"mode\": \"NULLABLE\",\\n  \"description\": \"The first motion of the wave whether rise or fall.  R = Rise F = Fall\"\\n },\\n {\\n  \"name\": \"deaths\",\\n  \"type\": \"INTEGER\",\\n  \"mode\": \"NULLABLE\",\\n  \"description\": \"Deaths from the tsunami at the specific runup location.\"\\n },\\n {\\n  \"name\": \"deaths_description\",\\n  \"type\": \"INTEGER\",\\n  \"mode\": \"NULLABLE\",\\n  \"description\": \"Valid values: 0 to 4 When a description was found in the historical literature instead of an actual number of deaths, this value was coded and listed in the Deaths De column. If the actual number of deaths was listed, a descriptor was also added for search purposes.  0 = None 1 = Few (~1 to 50 deaths) 2 = Some (~51 to 100 deaths) 3 = Many (~101 to 1000 deaths) 4 = Very Many (~1001 or more deaths)\"\\n },\\n {\\n  \"name\": \"injuries\",\\n  \"type\": \"INTEGER\",\\n  \"mode\": \"NULLABLE\",\\n  \"description\": \"Whenever possible, numbers of injuries from the tsunami at the specific runup location are listed; may also include injuries from the earthquake that triggered the tsunami.\"\\n },\\n {\\n  \"name\": \"injuries_description\",\\n  \"type\": \"INTEGER\",\\n  \"mode\": \"NULLABLE\",\\n  \"description\": \"Valid values: 0 to 4 When a description was found in the historical literature instead of an actual number of injuries, this value was coded and listed in the Injuries De column. If the actual number of injuries was listed, a descriptor was also added for search purposes.  0 = None 1 = Few (~1 to 50 injuries) 2 = Some(~51 to 100 injuries) 3 = Many (~101 to 1000 injuries) 4 = Very Many (~1001 or more injuries)\"\\n },\\n {\\n  \"name\": \"damage_millions_dollars\",\\n  \"type\": \"FLOAT\",\\n  \"mode\": \"NULLABLE\",\\n  \"description\": \"The value in the Damage column should be multipled by 1,000,000 to obtain the actual dollar amount.  When a dollar amount for damage was found in the literature, it was listed in the Damage column in millions of U.S. dollars. The dollar value listed is the value at the time of the event. To convert the damage to current dollar values today, please use the Consumer Price Index Calculator. Monetary conversion tables for the time of the event were used to convert foreign currency to U.S. dollars.\"\\n },\\n {\\n  \"name\": \"damage_description\",\\n  \"type\": \"INTEGER\",\\n  \"mode\": \"NULLABLE\",\\n  \"description\": \"For those events not offering a monetary evaluation of damage, the following five-level scale was used to classify damage (1990 dollars) and was listed in the Damage De column. If the actual dollar amount of damage was listed, a descriptor was also added for search purposes.  0 = NONE 1 = LIMITED (roughly corresponding to less than $1 million) 2 = MODERATE (~$1 to $5 million) 3 = SEVERE (~>$5 to $24 million) 4 = EXTREME (~$25 million or more)\"\\n },\\n {\\n  \"name\": \"houses_damaged\",\\n  \"type\": \"INTEGER\",\\n  \"mode\": \"NULLABLE\",\\n  \"description\": \"Valid values: 0 to Whenever possible, number of houses damaged by the tsunami at the specific runup location are listed; may also include houses damaged by the earthquake that triggered the tsunami.\"\\n },\\n {\\n  \"name\": \"houses_damaged_description\",\\n  \"type\": \"INTEGER\",\\n  \"mode\": \"NULLABLE\",\\n  \"description\": \"Valid values: 0 to 4 For those events not offering an exact number of houses damaged, the following four-level scale was used to classify the damage and was listed in the Houses Damaged De column. If the actual number of houses damaged was listed, a descriptor was also added for search purposes.  0 = None 1 = Few (~1 to 50 houses) 2 = Some (~51 to 100 houses) 3 = Many (~101 to 1000 houses) 4 = Very Many (~1001 or more houses)\"\\n },\\n {\\n  \"name\": \"houses_destroyed\",\\n  \"type\": \"INTEGER\",\\n  \"mode\": \"NULLABLE\",\\n  \"description\": \"Whenever possible, number of houses destroyed by the tsunami at the specific runup location are listed; may also include houses destroyed by the earthquake that triggered the tsunami.\"\\n },\\n {\\n  \"name\": \"houses_destroyed_description\",\\n  \"type\": \"INTEGER\",\\n  \"mode\": \"NULLABLE\",\\n  \"description\": \"Valid values: 0 to 4 For those events not offering an exact number of houses destroyed, the following four-level scale was used to classify the destruction and was listed in the Houses Destroyed De column. If the actual number of houses destroyed was listed, a descriptor was also added for search purposes.  0 = None 1 = Few (~1 to 50 houses) 2 = Some (~51 to 100 houses) 3 = Many (~101 to 1000 houses) 4 = Very Many (~1001 or more houses)\"\\n }\\n]```\\n',\n",
              " 'question': 'Which countries in Asia had more houses damaged? Give me the top 3',\n",
              " 'query': ' ```sql\\nSELECT\\n  COUNTRY,\\n  SUM(HOUSES_DAMAGED) AS TOTAL_HOUSES_DAMAGED\\nFROM\\n  `bigquery-public-data.noaa_tsunami.historical_runups`\\nWHERE\\n  COUNTRY LIKE \"%ASIA%\"\\nGROUP BY\\n  COUNTRY\\nORDER BY\\n  TOTAL_HOUSES_DAMAGED DESC\\nLIMIT 3;\\n```'}"
            ]
          },
          "metadata": {},
          "execution_count": 28
        }
      ]
    },
    {
      "cell_type": "markdown",
      "source": [
        "# Interpret the output chain"
      ],
      "metadata": {
        "id": "q7mvJMXqOML9"
      }
    },
    {
      "cell_type": "code",
      "source": [
        "INTERPRET_PROMPT = \"\"\"You are a BigQuery expert. You are also expert in extracting data from CSV.\n",
        "\n",
        "The following paragraph describes the schema of the table used for a query. It is encoded in JSON format.\n",
        "\n",
        "{context}\n",
        "\n",
        "A user asked this question:\n",
        "{question}\n",
        "\n",
        "To find the answer, the following SQL query was run in BigQuery:\n",
        "```\n",
        "{query}\n",
        "```\n",
        "\n",
        "The result of that query was the following table in CSV format:\n",
        "```\n",
        "{result}\n",
        "```\n",
        "\n",
        "Based on those results, provide a brief answer to the user question.\n",
        "\n",
        "Follow these restrictions strictly:\n",
        "- Do not add any explanation about how the answer is obtained, just write the answer.\n",
        "- Extract any value related to the answer only from the result of the query. Do not use any other data source.\n",
        "- Just write the answer, omit the question from your answer, this is a chat, just provide the answer.\n",
        "- If you cannot find the answer in the result, do not make up any data, just say \"I cannot find the answer\"\n",
        "\"\"\""
      ],
      "metadata": {
        "id": "TA4nJ2OTP8ej"
      },
      "execution_count": 18,
      "outputs": []
    },
    {
      "cell_type": "code",
      "source": [
        "from google.cloud import bigquery\n",
        "def get_bq_csv(bq_client: bigquery.Client, query: str) -> str:\n",
        "  df = bq_client.query(query, location=\"US\").to_dataframe()\n",
        "  return df.to_csv(index=False)"
      ],
      "metadata": {
        "id": "pFeZ8zvwQAPD"
      },
      "execution_count": 19,
      "outputs": []
    },
    {
      "cell_type": "code",
      "source": [
        "# Get the output of the previous chain\n",
        "\n",
        "### EXERCISE STARTS HERE\n",
        "query = {\"query\": itemgetter(\"query\")}\n",
        "context = {\"context\": itemgetter(\"context\")}\n",
        "question = {\"question\": itemgetter(\"question\")}\n",
        "query_result = {\"result\": lambda x: get_bq_csv(bq_client, x[\"query\"])}\n",
        "\n",
        "prompt = PromptTemplate(\n",
        "    input_variables=[\"question\", \"query\", \"result\", \"context\"],\n",
        "    template=INTERPRET_PROMPT)\n",
        "\n",
        "run_bq_chain = context | question | query | query_result | prompt\n",
        "run_bq_result = run_bq_chain | interpret_data_model | StrOutputParser()\n",
        "### EXERCISE ENDS HERE"
      ],
      "metadata": {
        "id": "xtbGdTCDUlLz"
      },
      "execution_count": 20,
      "outputs": []
    },
    {
      "cell_type": "code",
      "source": [
        "run_bq_result"
      ],
      "metadata": {
        "id": "cBs_6Vw8Sjkh",
        "outputId": "b033354e-10b2-4496-e3ea-446386d7b441",
        "colab": {
          "base_uri": "https://localhost:8080/"
        }
      },
      "execution_count": 30,
      "outputs": [
        {
          "output_type": "execute_result",
          "data": {
            "text/plain": [
              "{\n",
              "  context: RunnableLambda(...),\n",
              "  question: RunnableLambda(...),\n",
              "  query: RunnableLambda(...),\n",
              "  result: RunnableLambda(lambda x: get_bq_csv(bq_client, x['query']))\n",
              "}\n",
              "| PromptTemplate(input_variables=['context', 'query', 'question', 'result'], template='You are a BigQuery expert. You are also expert in extracting data from CSV.\\n\\nThe following paragraph describes the schema of the table used for a query. It is encoded in JSON format.\\n\\n{context}\\n\\nA user asked this question:\\n{question}\\n\\nTo find the answer, the following SQL query was run in BigQuery:\\n```\\n{query}\\n```\\n\\nThe result of that query was the following table in CSV format:\\n```\\n{result}\\n```\\n\\nBased on those results, provide a brief answer to the user question.\\n\\nFollow these restrictions strictly:\\n- Do not add any explanation about how the answer is obtained, just write the answer.\\n- Extract any value related to the answer only from the result of the query. Do not use any other data source.\\n- Just write the answer, omit the question from your answer, this is a chat, just provide the answer.\\n- If you cannot find the answer in the result, do not make up any data, just say \"I cannot find the answer\"\\n')\n",
              "| ChatVertexAI(client=<vertexai.preview.language_models._PreviewChatModel object at 0x7de402a604c0>, max_output_tokens=2048)\n",
              "| StrOutputParser()"
            ]
          },
          "metadata": {},
          "execution_count": 30
        }
      ]
    },
    {
      "cell_type": "code",
      "source": [
        "# Example\n",
        "x = {\"input\": \"Which countries in Asia had more houses damaged Give me the top 3\", \"chat_history\": \"\"}\n",
        "print(run_bq_result.invoke(query_output.invoke(x)))"
      ],
      "metadata": {
        "id": "Rjzena1YVFwN",
        "outputId": "e8b2c9ed-72eb-49b4-a3fb-a27f5d8e1564",
        "colab": {
          "base_uri": "https://localhost:8080/",
          "height": 373
        }
      },
      "execution_count": 31,
      "outputs": [
        {
          "output_type": "error",
          "ename": "BadRequest",
          "evalue": "400 Syntax error: Unexpected identifier `` at [1:2]; reason: invalidQuery, location: query, message: Syntax error: Unexpected identifier `` at [1:2]\n\nLocation: US\nJob ID: 859f5975-7331-4c1c-8e0b-9d23db712a5c\n",
          "traceback": [
            "\u001b[0;31m---------------------------------------------------------------------------\u001b[0m",
            "\u001b[0;31mBadRequest\u001b[0m                                Traceback (most recent call last)",
            "\u001b[0;32m<ipython-input-31-814bd0486f06>\u001b[0m in \u001b[0;36m<cell line: 3>\u001b[0;34m()\u001b[0m\n\u001b[1;32m      1\u001b[0m \u001b[0;31m# Example\u001b[0m\u001b[0;34m\u001b[0m\u001b[0;34m\u001b[0m\u001b[0m\n\u001b[1;32m      2\u001b[0m \u001b[0mx\u001b[0m \u001b[0;34m=\u001b[0m \u001b[0;34m{\u001b[0m\u001b[0;34m\"input\"\u001b[0m\u001b[0;34m:\u001b[0m \u001b[0;34m\"Which countries in Asia had more houses damaged Give me the top 3\"\u001b[0m\u001b[0;34m,\u001b[0m \u001b[0;34m\"chat_history\"\u001b[0m\u001b[0;34m:\u001b[0m \u001b[0;34m\"\"\u001b[0m\u001b[0;34m}\u001b[0m\u001b[0;34m\u001b[0m\u001b[0;34m\u001b[0m\u001b[0m\n\u001b[0;32m----> 3\u001b[0;31m \u001b[0mprint\u001b[0m\u001b[0;34m(\u001b[0m\u001b[0mrun_bq_result\u001b[0m\u001b[0;34m.\u001b[0m\u001b[0minvoke\u001b[0m\u001b[0;34m(\u001b[0m\u001b[0mquery_output\u001b[0m\u001b[0;34m.\u001b[0m\u001b[0minvoke\u001b[0m\u001b[0;34m(\u001b[0m\u001b[0mx\u001b[0m\u001b[0;34m)\u001b[0m\u001b[0;34m)\u001b[0m\u001b[0;34m)\u001b[0m\u001b[0;34m\u001b[0m\u001b[0;34m\u001b[0m\u001b[0m\n\u001b[0m",
            "\u001b[0;32m/usr/local/lib/python3.10/dist-packages/langchain/schema/runnable/base.py\u001b[0m in \u001b[0;36minvoke\u001b[0;34m(self, input, config)\u001b[0m\n\u001b[1;32m   1424\u001b[0m         \u001b[0;32mtry\u001b[0m\u001b[0;34m:\u001b[0m\u001b[0;34m\u001b[0m\u001b[0;34m\u001b[0m\u001b[0m\n\u001b[1;32m   1425\u001b[0m             \u001b[0;32mfor\u001b[0m \u001b[0mi\u001b[0m\u001b[0;34m,\u001b[0m \u001b[0mstep\u001b[0m \u001b[0;32min\u001b[0m \u001b[0menumerate\u001b[0m\u001b[0;34m(\u001b[0m\u001b[0mself\u001b[0m\u001b[0;34m.\u001b[0m\u001b[0msteps\u001b[0m\u001b[0;34m)\u001b[0m\u001b[0;34m:\u001b[0m\u001b[0;34m\u001b[0m\u001b[0;34m\u001b[0m\u001b[0m\n\u001b[0;32m-> 1426\u001b[0;31m                 input = step.invoke(\n\u001b[0m\u001b[1;32m   1427\u001b[0m                     \u001b[0minput\u001b[0m\u001b[0;34m,\u001b[0m\u001b[0;34m\u001b[0m\u001b[0;34m\u001b[0m\u001b[0m\n\u001b[1;32m   1428\u001b[0m                     \u001b[0;31m# mark each step as a child run\u001b[0m\u001b[0;34m\u001b[0m\u001b[0;34m\u001b[0m\u001b[0m\n",
            "\u001b[0;32m/usr/local/lib/python3.10/dist-packages/langchain/schema/runnable/base.py\u001b[0m in \u001b[0;36minvoke\u001b[0;34m(self, input, config)\u001b[0m\n\u001b[1;32m   1935\u001b[0m                     \u001b[0;32mfor\u001b[0m \u001b[0mkey\u001b[0m\u001b[0;34m,\u001b[0m \u001b[0mstep\u001b[0m \u001b[0;32min\u001b[0m \u001b[0msteps\u001b[0m\u001b[0;34m.\u001b[0m\u001b[0mitems\u001b[0m\u001b[0;34m(\u001b[0m\u001b[0;34m)\u001b[0m\u001b[0;34m\u001b[0m\u001b[0;34m\u001b[0m\u001b[0m\n\u001b[1;32m   1936\u001b[0m                 ]\n\u001b[0;32m-> 1937\u001b[0;31m                 \u001b[0moutput\u001b[0m \u001b[0;34m=\u001b[0m \u001b[0;34m{\u001b[0m\u001b[0mkey\u001b[0m\u001b[0;34m:\u001b[0m \u001b[0mfuture\u001b[0m\u001b[0;34m.\u001b[0m\u001b[0mresult\u001b[0m\u001b[0;34m(\u001b[0m\u001b[0;34m)\u001b[0m \u001b[0;32mfor\u001b[0m \u001b[0mkey\u001b[0m\u001b[0;34m,\u001b[0m \u001b[0mfuture\u001b[0m \u001b[0;32min\u001b[0m \u001b[0mzip\u001b[0m\u001b[0;34m(\u001b[0m\u001b[0msteps\u001b[0m\u001b[0;34m,\u001b[0m \u001b[0mfutures\u001b[0m\u001b[0;34m)\u001b[0m\u001b[0;34m}\u001b[0m\u001b[0;34m\u001b[0m\u001b[0;34m\u001b[0m\u001b[0m\n\u001b[0m\u001b[1;32m   1938\u001b[0m         \u001b[0;31m# finish the root run\u001b[0m\u001b[0;34m\u001b[0m\u001b[0;34m\u001b[0m\u001b[0m\n\u001b[1;32m   1939\u001b[0m         \u001b[0;32mexcept\u001b[0m \u001b[0mBaseException\u001b[0m \u001b[0;32mas\u001b[0m \u001b[0me\u001b[0m\u001b[0;34m:\u001b[0m\u001b[0;34m\u001b[0m\u001b[0;34m\u001b[0m\u001b[0m\n",
            "\u001b[0;32m/usr/local/lib/python3.10/dist-packages/langchain/schema/runnable/base.py\u001b[0m in \u001b[0;36m<dictcomp>\u001b[0;34m(.0)\u001b[0m\n\u001b[1;32m   1935\u001b[0m                     \u001b[0;32mfor\u001b[0m \u001b[0mkey\u001b[0m\u001b[0;34m,\u001b[0m \u001b[0mstep\u001b[0m \u001b[0;32min\u001b[0m \u001b[0msteps\u001b[0m\u001b[0;34m.\u001b[0m\u001b[0mitems\u001b[0m\u001b[0;34m(\u001b[0m\u001b[0;34m)\u001b[0m\u001b[0;34m\u001b[0m\u001b[0;34m\u001b[0m\u001b[0m\n\u001b[1;32m   1936\u001b[0m                 ]\n\u001b[0;32m-> 1937\u001b[0;31m                 \u001b[0moutput\u001b[0m \u001b[0;34m=\u001b[0m \u001b[0;34m{\u001b[0m\u001b[0mkey\u001b[0m\u001b[0;34m:\u001b[0m \u001b[0mfuture\u001b[0m\u001b[0;34m.\u001b[0m\u001b[0mresult\u001b[0m\u001b[0;34m(\u001b[0m\u001b[0;34m)\u001b[0m \u001b[0;32mfor\u001b[0m \u001b[0mkey\u001b[0m\u001b[0;34m,\u001b[0m \u001b[0mfuture\u001b[0m \u001b[0;32min\u001b[0m \u001b[0mzip\u001b[0m\u001b[0;34m(\u001b[0m\u001b[0msteps\u001b[0m\u001b[0;34m,\u001b[0m \u001b[0mfutures\u001b[0m\u001b[0;34m)\u001b[0m\u001b[0;34m}\u001b[0m\u001b[0;34m\u001b[0m\u001b[0;34m\u001b[0m\u001b[0m\n\u001b[0m\u001b[1;32m   1938\u001b[0m         \u001b[0;31m# finish the root run\u001b[0m\u001b[0;34m\u001b[0m\u001b[0;34m\u001b[0m\u001b[0m\n\u001b[1;32m   1939\u001b[0m         \u001b[0;32mexcept\u001b[0m \u001b[0mBaseException\u001b[0m \u001b[0;32mas\u001b[0m \u001b[0me\u001b[0m\u001b[0;34m:\u001b[0m\u001b[0;34m\u001b[0m\u001b[0;34m\u001b[0m\u001b[0m\n",
            "\u001b[0;32m/usr/lib/python3.10/concurrent/futures/_base.py\u001b[0m in \u001b[0;36mresult\u001b[0;34m(self, timeout)\u001b[0m\n\u001b[1;32m    456\u001b[0m                     \u001b[0;32mraise\u001b[0m \u001b[0mCancelledError\u001b[0m\u001b[0;34m(\u001b[0m\u001b[0;34m)\u001b[0m\u001b[0;34m\u001b[0m\u001b[0;34m\u001b[0m\u001b[0m\n\u001b[1;32m    457\u001b[0m                 \u001b[0;32melif\u001b[0m \u001b[0mself\u001b[0m\u001b[0;34m.\u001b[0m\u001b[0m_state\u001b[0m \u001b[0;34m==\u001b[0m \u001b[0mFINISHED\u001b[0m\u001b[0;34m:\u001b[0m\u001b[0;34m\u001b[0m\u001b[0;34m\u001b[0m\u001b[0m\n\u001b[0;32m--> 458\u001b[0;31m                     \u001b[0;32mreturn\u001b[0m \u001b[0mself\u001b[0m\u001b[0;34m.\u001b[0m\u001b[0m__get_result\u001b[0m\u001b[0;34m(\u001b[0m\u001b[0;34m)\u001b[0m\u001b[0;34m\u001b[0m\u001b[0;34m\u001b[0m\u001b[0m\n\u001b[0m\u001b[1;32m    459\u001b[0m                 \u001b[0;32melse\u001b[0m\u001b[0;34m:\u001b[0m\u001b[0;34m\u001b[0m\u001b[0;34m\u001b[0m\u001b[0m\n\u001b[1;32m    460\u001b[0m                     \u001b[0;32mraise\u001b[0m \u001b[0mTimeoutError\u001b[0m\u001b[0;34m(\u001b[0m\u001b[0;34m)\u001b[0m\u001b[0;34m\u001b[0m\u001b[0;34m\u001b[0m\u001b[0m\n",
            "\u001b[0;32m/usr/lib/python3.10/concurrent/futures/_base.py\u001b[0m in \u001b[0;36m__get_result\u001b[0;34m(self)\u001b[0m\n\u001b[1;32m    401\u001b[0m         \u001b[0;32mif\u001b[0m \u001b[0mself\u001b[0m\u001b[0;34m.\u001b[0m\u001b[0m_exception\u001b[0m\u001b[0;34m:\u001b[0m\u001b[0;34m\u001b[0m\u001b[0;34m\u001b[0m\u001b[0m\n\u001b[1;32m    402\u001b[0m             \u001b[0;32mtry\u001b[0m\u001b[0;34m:\u001b[0m\u001b[0;34m\u001b[0m\u001b[0;34m\u001b[0m\u001b[0m\n\u001b[0;32m--> 403\u001b[0;31m                 \u001b[0;32mraise\u001b[0m \u001b[0mself\u001b[0m\u001b[0;34m.\u001b[0m\u001b[0m_exception\u001b[0m\u001b[0;34m\u001b[0m\u001b[0;34m\u001b[0m\u001b[0m\n\u001b[0m\u001b[1;32m    404\u001b[0m             \u001b[0;32mfinally\u001b[0m\u001b[0;34m:\u001b[0m\u001b[0;34m\u001b[0m\u001b[0;34m\u001b[0m\u001b[0m\n\u001b[1;32m    405\u001b[0m                 \u001b[0;31m# Break a reference cycle with the exception in self._exception\u001b[0m\u001b[0;34m\u001b[0m\u001b[0;34m\u001b[0m\u001b[0m\n",
            "\u001b[0;32m/usr/lib/python3.10/concurrent/futures/thread.py\u001b[0m in \u001b[0;36mrun\u001b[0;34m(self)\u001b[0m\n\u001b[1;32m     56\u001b[0m \u001b[0;34m\u001b[0m\u001b[0m\n\u001b[1;32m     57\u001b[0m         \u001b[0;32mtry\u001b[0m\u001b[0;34m:\u001b[0m\u001b[0;34m\u001b[0m\u001b[0;34m\u001b[0m\u001b[0m\n\u001b[0;32m---> 58\u001b[0;31m             \u001b[0mresult\u001b[0m \u001b[0;34m=\u001b[0m \u001b[0mself\u001b[0m\u001b[0;34m.\u001b[0m\u001b[0mfn\u001b[0m\u001b[0;34m(\u001b[0m\u001b[0;34m*\u001b[0m\u001b[0mself\u001b[0m\u001b[0;34m.\u001b[0m\u001b[0margs\u001b[0m\u001b[0;34m,\u001b[0m \u001b[0;34m**\u001b[0m\u001b[0mself\u001b[0m\u001b[0;34m.\u001b[0m\u001b[0mkwargs\u001b[0m\u001b[0;34m)\u001b[0m\u001b[0;34m\u001b[0m\u001b[0;34m\u001b[0m\u001b[0m\n\u001b[0m\u001b[1;32m     59\u001b[0m         \u001b[0;32mexcept\u001b[0m \u001b[0mBaseException\u001b[0m \u001b[0;32mas\u001b[0m \u001b[0mexc\u001b[0m\u001b[0;34m:\u001b[0m\u001b[0;34m\u001b[0m\u001b[0;34m\u001b[0m\u001b[0m\n\u001b[1;32m     60\u001b[0m             \u001b[0mself\u001b[0m\u001b[0;34m.\u001b[0m\u001b[0mfuture\u001b[0m\u001b[0;34m.\u001b[0m\u001b[0mset_exception\u001b[0m\u001b[0;34m(\u001b[0m\u001b[0mexc\u001b[0m\u001b[0;34m)\u001b[0m\u001b[0;34m\u001b[0m\u001b[0;34m\u001b[0m\u001b[0m\n",
            "\u001b[0;32m/usr/local/lib/python3.10/dist-packages/langchain/schema/runnable/base.py\u001b[0m in \u001b[0;36minvoke\u001b[0;34m(self, input, config, **kwargs)\u001b[0m\n\u001b[1;32m   2514\u001b[0m         \u001b[0;34m\"\"\"Invoke this runnable synchronously.\"\"\"\u001b[0m\u001b[0;34m\u001b[0m\u001b[0;34m\u001b[0m\u001b[0m\n\u001b[1;32m   2515\u001b[0m         \u001b[0;32mif\u001b[0m \u001b[0mhasattr\u001b[0m\u001b[0;34m(\u001b[0m\u001b[0mself\u001b[0m\u001b[0;34m,\u001b[0m \u001b[0;34m\"func\"\u001b[0m\u001b[0;34m)\u001b[0m\u001b[0;34m:\u001b[0m\u001b[0;34m\u001b[0m\u001b[0;34m\u001b[0m\u001b[0m\n\u001b[0;32m-> 2516\u001b[0;31m             return self._call_with_config(\n\u001b[0m\u001b[1;32m   2517\u001b[0m                 \u001b[0mself\u001b[0m\u001b[0;34m.\u001b[0m\u001b[0m_invoke\u001b[0m\u001b[0;34m,\u001b[0m\u001b[0;34m\u001b[0m\u001b[0;34m\u001b[0m\u001b[0m\n\u001b[1;32m   2518\u001b[0m                 \u001b[0minput\u001b[0m\u001b[0;34m,\u001b[0m\u001b[0;34m\u001b[0m\u001b[0;34m\u001b[0m\u001b[0m\n",
            "\u001b[0;32m/usr/local/lib/python3.10/dist-packages/langchain/schema/runnable/base.py\u001b[0m in \u001b[0;36m_call_with_config\u001b[0;34m(self, func, input, config, run_type, **kwargs)\u001b[0m\n\u001b[1;32m    845\u001b[0m         )\n\u001b[1;32m    846\u001b[0m         \u001b[0;32mtry\u001b[0m\u001b[0;34m:\u001b[0m\u001b[0;34m\u001b[0m\u001b[0;34m\u001b[0m\u001b[0m\n\u001b[0;32m--> 847\u001b[0;31m             output = call_func_with_variable_args(\n\u001b[0m\u001b[1;32m    848\u001b[0m                 \u001b[0mfunc\u001b[0m\u001b[0;34m,\u001b[0m \u001b[0minput\u001b[0m\u001b[0;34m,\u001b[0m \u001b[0mconfig\u001b[0m\u001b[0;34m,\u001b[0m \u001b[0mrun_manager\u001b[0m\u001b[0;34m,\u001b[0m \u001b[0;34m**\u001b[0m\u001b[0mkwargs\u001b[0m\u001b[0;34m\u001b[0m\u001b[0;34m\u001b[0m\u001b[0m\n\u001b[1;32m    849\u001b[0m             )\n",
            "\u001b[0;32m/usr/local/lib/python3.10/dist-packages/langchain/schema/runnable/config.py\u001b[0m in \u001b[0;36mcall_func_with_variable_args\u001b[0;34m(func, input, config, run_manager, **kwargs)\u001b[0m\n\u001b[1;32m    306\u001b[0m     \u001b[0;32mif\u001b[0m \u001b[0mrun_manager\u001b[0m \u001b[0;32mis\u001b[0m \u001b[0;32mnot\u001b[0m \u001b[0;32mNone\u001b[0m \u001b[0;32mand\u001b[0m \u001b[0maccepts_run_manager\u001b[0m\u001b[0;34m(\u001b[0m\u001b[0mfunc\u001b[0m\u001b[0;34m)\u001b[0m\u001b[0;34m:\u001b[0m\u001b[0;34m\u001b[0m\u001b[0;34m\u001b[0m\u001b[0m\n\u001b[1;32m    307\u001b[0m         \u001b[0mkwargs\u001b[0m\u001b[0;34m[\u001b[0m\u001b[0;34m\"run_manager\"\u001b[0m\u001b[0;34m]\u001b[0m \u001b[0;34m=\u001b[0m \u001b[0mrun_manager\u001b[0m\u001b[0;34m\u001b[0m\u001b[0;34m\u001b[0m\u001b[0m\n\u001b[0;32m--> 308\u001b[0;31m     \u001b[0;32mreturn\u001b[0m \u001b[0mfunc\u001b[0m\u001b[0;34m(\u001b[0m\u001b[0minput\u001b[0m\u001b[0;34m,\u001b[0m \u001b[0;34m**\u001b[0m\u001b[0mkwargs\u001b[0m\u001b[0;34m)\u001b[0m  \u001b[0;31m# type: ignore[call-arg]\u001b[0m\u001b[0;34m\u001b[0m\u001b[0;34m\u001b[0m\u001b[0m\n\u001b[0m\u001b[1;32m    309\u001b[0m \u001b[0;34m\u001b[0m\u001b[0m\n\u001b[1;32m    310\u001b[0m \u001b[0;34m\u001b[0m\u001b[0m\n",
            "\u001b[0;32m/usr/local/lib/python3.10/dist-packages/langchain/schema/runnable/base.py\u001b[0m in \u001b[0;36m_invoke\u001b[0;34m(self, input, run_manager, config, **kwargs)\u001b[0m\n\u001b[1;32m   2444\u001b[0m         \u001b[0;34m**\u001b[0m\u001b[0mkwargs\u001b[0m\u001b[0;34m:\u001b[0m \u001b[0mAny\u001b[0m\u001b[0;34m,\u001b[0m\u001b[0;34m\u001b[0m\u001b[0;34m\u001b[0m\u001b[0m\n\u001b[1;32m   2445\u001b[0m     ) -> Output:\n\u001b[0;32m-> 2446\u001b[0;31m         output = call_func_with_variable_args(\n\u001b[0m\u001b[1;32m   2447\u001b[0m             \u001b[0mself\u001b[0m\u001b[0;34m.\u001b[0m\u001b[0mfunc\u001b[0m\u001b[0;34m,\u001b[0m \u001b[0minput\u001b[0m\u001b[0;34m,\u001b[0m \u001b[0mconfig\u001b[0m\u001b[0;34m,\u001b[0m \u001b[0mrun_manager\u001b[0m\u001b[0;34m,\u001b[0m \u001b[0;34m**\u001b[0m\u001b[0mkwargs\u001b[0m\u001b[0;34m\u001b[0m\u001b[0;34m\u001b[0m\u001b[0m\n\u001b[1;32m   2448\u001b[0m         )\n",
            "\u001b[0;32m/usr/local/lib/python3.10/dist-packages/langchain/schema/runnable/config.py\u001b[0m in \u001b[0;36mcall_func_with_variable_args\u001b[0;34m(func, input, config, run_manager, **kwargs)\u001b[0m\n\u001b[1;32m    306\u001b[0m     \u001b[0;32mif\u001b[0m \u001b[0mrun_manager\u001b[0m \u001b[0;32mis\u001b[0m \u001b[0;32mnot\u001b[0m \u001b[0;32mNone\u001b[0m \u001b[0;32mand\u001b[0m \u001b[0maccepts_run_manager\u001b[0m\u001b[0;34m(\u001b[0m\u001b[0mfunc\u001b[0m\u001b[0;34m)\u001b[0m\u001b[0;34m:\u001b[0m\u001b[0;34m\u001b[0m\u001b[0;34m\u001b[0m\u001b[0m\n\u001b[1;32m    307\u001b[0m         \u001b[0mkwargs\u001b[0m\u001b[0;34m[\u001b[0m\u001b[0;34m\"run_manager\"\u001b[0m\u001b[0;34m]\u001b[0m \u001b[0;34m=\u001b[0m \u001b[0mrun_manager\u001b[0m\u001b[0;34m\u001b[0m\u001b[0;34m\u001b[0m\u001b[0m\n\u001b[0;32m--> 308\u001b[0;31m     \u001b[0;32mreturn\u001b[0m \u001b[0mfunc\u001b[0m\u001b[0;34m(\u001b[0m\u001b[0minput\u001b[0m\u001b[0;34m,\u001b[0m \u001b[0;34m**\u001b[0m\u001b[0mkwargs\u001b[0m\u001b[0;34m)\u001b[0m  \u001b[0;31m# type: ignore[call-arg]\u001b[0m\u001b[0;34m\u001b[0m\u001b[0;34m\u001b[0m\u001b[0m\n\u001b[0m\u001b[1;32m    309\u001b[0m \u001b[0;34m\u001b[0m\u001b[0m\n\u001b[1;32m    310\u001b[0m \u001b[0;34m\u001b[0m\u001b[0m\n",
            "\u001b[0;32m<ipython-input-20-7a289c9354f0>\u001b[0m in \u001b[0;36m<lambda>\u001b[0;34m(x)\u001b[0m\n\u001b[1;32m      5\u001b[0m \u001b[0mcontext\u001b[0m \u001b[0;34m=\u001b[0m \u001b[0;34m{\u001b[0m\u001b[0;34m\"context\"\u001b[0m\u001b[0;34m:\u001b[0m \u001b[0mitemgetter\u001b[0m\u001b[0;34m(\u001b[0m\u001b[0;34m\"context\"\u001b[0m\u001b[0;34m)\u001b[0m\u001b[0;34m}\u001b[0m\u001b[0;34m\u001b[0m\u001b[0;34m\u001b[0m\u001b[0m\n\u001b[1;32m      6\u001b[0m \u001b[0mquestion\u001b[0m \u001b[0;34m=\u001b[0m \u001b[0;34m{\u001b[0m\u001b[0;34m\"question\"\u001b[0m\u001b[0;34m:\u001b[0m \u001b[0mitemgetter\u001b[0m\u001b[0;34m(\u001b[0m\u001b[0;34m\"question\"\u001b[0m\u001b[0;34m)\u001b[0m\u001b[0;34m}\u001b[0m\u001b[0;34m\u001b[0m\u001b[0;34m\u001b[0m\u001b[0m\n\u001b[0;32m----> 7\u001b[0;31m \u001b[0mquery_result\u001b[0m \u001b[0;34m=\u001b[0m \u001b[0;34m{\u001b[0m\u001b[0;34m\"result\"\u001b[0m\u001b[0;34m:\u001b[0m \u001b[0;32mlambda\u001b[0m \u001b[0mx\u001b[0m\u001b[0;34m:\u001b[0m \u001b[0mget_bq_csv\u001b[0m\u001b[0;34m(\u001b[0m\u001b[0mbq_client\u001b[0m\u001b[0;34m,\u001b[0m \u001b[0mx\u001b[0m\u001b[0;34m[\u001b[0m\u001b[0;34m\"query\"\u001b[0m\u001b[0;34m]\u001b[0m\u001b[0;34m)\u001b[0m\u001b[0;34m}\u001b[0m\u001b[0;34m\u001b[0m\u001b[0;34m\u001b[0m\u001b[0m\n\u001b[0m\u001b[1;32m      8\u001b[0m \u001b[0;34m\u001b[0m\u001b[0m\n\u001b[1;32m      9\u001b[0m prompt = PromptTemplate(\n",
            "\u001b[0;32m<ipython-input-19-b9ff40dd25d3>\u001b[0m in \u001b[0;36mget_bq_csv\u001b[0;34m(bq_client, query)\u001b[0m\n\u001b[1;32m      1\u001b[0m \u001b[0;32mfrom\u001b[0m \u001b[0mgoogle\u001b[0m\u001b[0;34m.\u001b[0m\u001b[0mcloud\u001b[0m \u001b[0;32mimport\u001b[0m \u001b[0mbigquery\u001b[0m\u001b[0;34m\u001b[0m\u001b[0;34m\u001b[0m\u001b[0m\n\u001b[1;32m      2\u001b[0m \u001b[0;32mdef\u001b[0m \u001b[0mget_bq_csv\u001b[0m\u001b[0;34m(\u001b[0m\u001b[0mbq_client\u001b[0m\u001b[0;34m:\u001b[0m \u001b[0mbigquery\u001b[0m\u001b[0;34m.\u001b[0m\u001b[0mClient\u001b[0m\u001b[0;34m,\u001b[0m \u001b[0mquery\u001b[0m\u001b[0;34m:\u001b[0m \u001b[0mstr\u001b[0m\u001b[0;34m)\u001b[0m \u001b[0;34m->\u001b[0m \u001b[0mstr\u001b[0m\u001b[0;34m:\u001b[0m\u001b[0;34m\u001b[0m\u001b[0;34m\u001b[0m\u001b[0m\n\u001b[0;32m----> 3\u001b[0;31m   \u001b[0mdf\u001b[0m \u001b[0;34m=\u001b[0m \u001b[0mbq_client\u001b[0m\u001b[0;34m.\u001b[0m\u001b[0mquery\u001b[0m\u001b[0;34m(\u001b[0m\u001b[0mquery\u001b[0m\u001b[0;34m,\u001b[0m \u001b[0mlocation\u001b[0m\u001b[0;34m=\u001b[0m\u001b[0;34m\"US\"\u001b[0m\u001b[0;34m)\u001b[0m\u001b[0;34m.\u001b[0m\u001b[0mto_dataframe\u001b[0m\u001b[0;34m(\u001b[0m\u001b[0;34m)\u001b[0m\u001b[0;34m\u001b[0m\u001b[0;34m\u001b[0m\u001b[0m\n\u001b[0m\u001b[1;32m      4\u001b[0m   \u001b[0;32mreturn\u001b[0m \u001b[0mdf\u001b[0m\u001b[0;34m.\u001b[0m\u001b[0mto_csv\u001b[0m\u001b[0;34m(\u001b[0m\u001b[0mindex\u001b[0m\u001b[0;34m=\u001b[0m\u001b[0;32mFalse\u001b[0m\u001b[0;34m)\u001b[0m\u001b[0;34m\u001b[0m\u001b[0;34m\u001b[0m\u001b[0m\n",
            "\u001b[0;32m/usr/local/lib/python3.10/dist-packages/google/cloud/bigquery/job/query.py\u001b[0m in \u001b[0;36mto_dataframe\u001b[0;34m(self, bqstorage_client, dtypes, progress_bar_type, create_bqstorage_client, max_results, geography_as_object, bool_dtype, int_dtype, float_dtype, string_dtype, date_dtype, datetime_dtype, time_dtype, timestamp_dtype)\u001b[0m\n\u001b[1;32m   1935\u001b[0m                 \u001b[0;34m:\u001b[0m\u001b[0mmod\u001b[0m\u001b[0;34m:\u001b[0m\u001b[0;31m`\u001b[0m\u001b[0mshapely\u001b[0m\u001b[0;31m`\u001b[0m \u001b[0mlibrary\u001b[0m \u001b[0mcannot\u001b[0m \u001b[0mbe\u001b[0m \u001b[0mimported\u001b[0m\u001b[0;34m.\u001b[0m\u001b[0;34m\u001b[0m\u001b[0;34m\u001b[0m\u001b[0m\n\u001b[1;32m   1936\u001b[0m         \"\"\"\n\u001b[0;32m-> 1937\u001b[0;31m         \u001b[0mquery_result\u001b[0m \u001b[0;34m=\u001b[0m \u001b[0mwait_for_query\u001b[0m\u001b[0;34m(\u001b[0m\u001b[0mself\u001b[0m\u001b[0;34m,\u001b[0m \u001b[0mprogress_bar_type\u001b[0m\u001b[0;34m,\u001b[0m \u001b[0mmax_results\u001b[0m\u001b[0;34m=\u001b[0m\u001b[0mmax_results\u001b[0m\u001b[0;34m)\u001b[0m\u001b[0;34m\u001b[0m\u001b[0;34m\u001b[0m\u001b[0m\n\u001b[0m\u001b[1;32m   1938\u001b[0m         return query_result.to_dataframe(\n\u001b[1;32m   1939\u001b[0m             \u001b[0mbqstorage_client\u001b[0m\u001b[0;34m=\u001b[0m\u001b[0mbqstorage_client\u001b[0m\u001b[0;34m,\u001b[0m\u001b[0;34m\u001b[0m\u001b[0;34m\u001b[0m\u001b[0m\n",
            "\u001b[0;32m/usr/local/lib/python3.10/dist-packages/google/cloud/bigquery/_tqdm_helpers.py\u001b[0m in \u001b[0;36mwait_for_query\u001b[0;34m(query_job, progress_bar_type, max_results)\u001b[0m\n\u001b[1;32m    105\u001b[0m     )\n\u001b[1;32m    106\u001b[0m     \u001b[0;32mif\u001b[0m \u001b[0mprogress_bar\u001b[0m \u001b[0;32mis\u001b[0m \u001b[0;32mNone\u001b[0m\u001b[0;34m:\u001b[0m\u001b[0;34m\u001b[0m\u001b[0;34m\u001b[0m\u001b[0m\n\u001b[0;32m--> 107\u001b[0;31m         \u001b[0;32mreturn\u001b[0m \u001b[0mquery_job\u001b[0m\u001b[0;34m.\u001b[0m\u001b[0mresult\u001b[0m\u001b[0;34m(\u001b[0m\u001b[0mmax_results\u001b[0m\u001b[0;34m=\u001b[0m\u001b[0mmax_results\u001b[0m\u001b[0;34m)\u001b[0m\u001b[0;34m\u001b[0m\u001b[0;34m\u001b[0m\u001b[0m\n\u001b[0m\u001b[1;32m    108\u001b[0m \u001b[0;34m\u001b[0m\u001b[0m\n\u001b[1;32m    109\u001b[0m     \u001b[0mi\u001b[0m \u001b[0;34m=\u001b[0m \u001b[0;36m0\u001b[0m\u001b[0;34m\u001b[0m\u001b[0;34m\u001b[0m\u001b[0m\n",
            "\u001b[0;32m/usr/local/lib/python3.10/dist-packages/google/cloud/bigquery/job/query.py\u001b[0m in \u001b[0;36mresult\u001b[0;34m(self, page_size, max_results, retry, timeout, start_index, job_retry)\u001b[0m\n\u001b[1;32m   1624\u001b[0m                 \u001b[0;31m# Since is_job_done() calls jobs.getQueryResults, which is a\u001b[0m\u001b[0;34m\u001b[0m\u001b[0;34m\u001b[0m\u001b[0m\n\u001b[1;32m   1625\u001b[0m                 \u001b[0;31m# long-running API, don't delay the next request at all.\u001b[0m\u001b[0;34m\u001b[0m\u001b[0;34m\u001b[0m\u001b[0m\n\u001b[0;32m-> 1626\u001b[0;31m                 \u001b[0;32mwhile\u001b[0m \u001b[0;32mnot\u001b[0m \u001b[0mis_job_done\u001b[0m\u001b[0;34m(\u001b[0m\u001b[0;34m)\u001b[0m\u001b[0;34m:\u001b[0m\u001b[0;34m\u001b[0m\u001b[0;34m\u001b[0m\u001b[0m\n\u001b[0m\u001b[1;32m   1627\u001b[0m                     \u001b[0;32mpass\u001b[0m\u001b[0;34m\u001b[0m\u001b[0;34m\u001b[0m\u001b[0m\n\u001b[1;32m   1628\u001b[0m             \u001b[0;32melse\u001b[0m\u001b[0;34m:\u001b[0m\u001b[0;34m\u001b[0m\u001b[0;34m\u001b[0m\u001b[0m\n",
            "\u001b[0;32m/usr/local/lib/python3.10/dist-packages/google/api_core/retry.py\u001b[0m in \u001b[0;36mretry_wrapped_func\u001b[0;34m(*args, **kwargs)\u001b[0m\n\u001b[1;32m    347\u001b[0m                 \u001b[0mself\u001b[0m\u001b[0;34m.\u001b[0m\u001b[0m_initial\u001b[0m\u001b[0;34m,\u001b[0m \u001b[0mself\u001b[0m\u001b[0;34m.\u001b[0m\u001b[0m_maximum\u001b[0m\u001b[0;34m,\u001b[0m \u001b[0mmultiplier\u001b[0m\u001b[0;34m=\u001b[0m\u001b[0mself\u001b[0m\u001b[0;34m.\u001b[0m\u001b[0m_multiplier\u001b[0m\u001b[0;34m\u001b[0m\u001b[0;34m\u001b[0m\u001b[0m\n\u001b[1;32m    348\u001b[0m             )\n\u001b[0;32m--> 349\u001b[0;31m             return retry_target(\n\u001b[0m\u001b[1;32m    350\u001b[0m                 \u001b[0mtarget\u001b[0m\u001b[0;34m,\u001b[0m\u001b[0;34m\u001b[0m\u001b[0;34m\u001b[0m\u001b[0m\n\u001b[1;32m    351\u001b[0m                 \u001b[0mself\u001b[0m\u001b[0;34m.\u001b[0m\u001b[0m_predicate\u001b[0m\u001b[0;34m,\u001b[0m\u001b[0;34m\u001b[0m\u001b[0;34m\u001b[0m\u001b[0m\n",
            "\u001b[0;32m/usr/local/lib/python3.10/dist-packages/google/api_core/retry.py\u001b[0m in \u001b[0;36mretry_target\u001b[0;34m(target, predicate, sleep_generator, timeout, on_error, **kwargs)\u001b[0m\n\u001b[1;32m    189\u001b[0m     \u001b[0;32mfor\u001b[0m \u001b[0msleep\u001b[0m \u001b[0;32min\u001b[0m \u001b[0msleep_generator\u001b[0m\u001b[0;34m:\u001b[0m\u001b[0;34m\u001b[0m\u001b[0;34m\u001b[0m\u001b[0m\n\u001b[1;32m    190\u001b[0m         \u001b[0;32mtry\u001b[0m\u001b[0;34m:\u001b[0m\u001b[0;34m\u001b[0m\u001b[0;34m\u001b[0m\u001b[0m\n\u001b[0;32m--> 191\u001b[0;31m             \u001b[0;32mreturn\u001b[0m \u001b[0mtarget\u001b[0m\u001b[0;34m(\u001b[0m\u001b[0;34m)\u001b[0m\u001b[0;34m\u001b[0m\u001b[0;34m\u001b[0m\u001b[0m\n\u001b[0m\u001b[1;32m    192\u001b[0m \u001b[0;34m\u001b[0m\u001b[0m\n\u001b[1;32m    193\u001b[0m         \u001b[0;31m# pylint: disable=broad-except\u001b[0m\u001b[0;34m\u001b[0m\u001b[0;34m\u001b[0m\u001b[0m\n",
            "\u001b[0;32m/usr/local/lib/python3.10/dist-packages/google/cloud/bigquery/job/query.py\u001b[0m in \u001b[0;36mis_job_done\u001b[0;34m()\u001b[0m\n\u001b[1;32m   1575\u001b[0m                         \u001b[0;31m# `job_retry` predicate.\u001b[0m\u001b[0;34m\u001b[0m\u001b[0;34m\u001b[0m\u001b[0m\n\u001b[1;32m   1576\u001b[0m                         \u001b[0mrestart_query_job\u001b[0m \u001b[0;34m=\u001b[0m \u001b[0;32mTrue\u001b[0m\u001b[0;34m\u001b[0m\u001b[0;34m\u001b[0m\u001b[0m\n\u001b[0;32m-> 1577\u001b[0;31m                         \u001b[0;32mraise\u001b[0m \u001b[0mjob_failed_exception\u001b[0m\u001b[0;34m\u001b[0m\u001b[0;34m\u001b[0m\u001b[0m\n\u001b[0m\u001b[1;32m   1578\u001b[0m                     \u001b[0;32melse\u001b[0m\u001b[0;34m:\u001b[0m\u001b[0;34m\u001b[0m\u001b[0;34m\u001b[0m\u001b[0m\n\u001b[1;32m   1579\u001b[0m                         \u001b[0;31m# Make sure that the _query_results are cached so we\u001b[0m\u001b[0;34m\u001b[0m\u001b[0;34m\u001b[0m\u001b[0m\n",
            "\u001b[0;31mBadRequest\u001b[0m: 400 Syntax error: Unexpected identifier `` at [1:2]; reason: invalidQuery, location: query, message: Syntax error: Unexpected identifier `` at [1:2]\n\nLocation: US\nJob ID: 859f5975-7331-4c1c-8e0b-9d23db712a5c\n"
          ]
        }
      ]
    },
    {
      "cell_type": "markdown",
      "source": [
        "# Agent: putting everything together"
      ],
      "metadata": {
        "id": "Pj3XlntDVzV2"
      }
    },
    {
      "cell_type": "code",
      "source": [
        "from langchain.memory import ConversationBufferWindowMemory\n",
        "\n",
        "agent_memory = ConversationBufferWindowMemory(\n",
        "    memory_key=\"chat_history\",\n",
        "    k=10,\n",
        "    return_messages=True)"
      ],
      "metadata": {
        "id": "E_89yVG3axiN"
      },
      "execution_count": null,
      "outputs": []
    },
    {
      "cell_type": "code",
      "source": [
        "AGENT_PROMPT = \"\"\"You are a very powerful assistant that can answer questions using BigQuery.\n",
        "\n",
        "You can invoke the tool user_question_tool to answer questions using BigQuery.\n",
        "\n",
        "You can invoke the tool Calculator if you need to do mathematical operations.\n",
        "\n",
        "Always use the tools to try to answer the questions. Use the chat history for context. Never try to use any other external information.\n",
        "\n",
        "Assume that the user may write with misspellings, fix the spelling of the user before passing the question to any tool.\n",
        "\n",
        "Don't mention what tool you have used in your answer.\n",
        "\"\"\""
      ],
      "metadata": {
        "id": "31F8tq_tXLsc"
      },
      "execution_count": null,
      "outputs": []
    },
    {
      "cell_type": "code",
      "source": [
        "from langchain import LLMMathChain\n",
        "from langchain.tools import Tool\n",
        "\n",
        "math_chain = LLMMathChain.from_llm(llm=agent_model)\n",
        "math_tool = Tool(\n",
        "  name=\"Calculator\",\n",
        "  description=\"Useful for when you need to answer questions about math.\",\n",
        "  func=math_chain.run,\n",
        "  coroutine=math_chain.arun)"
      ],
      "metadata": {
        "id": "R8X1LGzzXUcw"
      },
      "execution_count": null,
      "outputs": []
    },
    {
      "cell_type": "code",
      "source": [
        "from langchain.tools import tool\n",
        "from langchain.callbacks.tracers import ConsoleCallbackHandler\n",
        "\n",
        "@tool\n",
        "def user_question_tool(question) -> str:\n",
        "  \"\"\"Useful to answer natural language questions from users using BigQuery.\"\"\"\n",
        "  config={'callbacks': [ConsoleCallbackHandler()]}\n",
        "  memory = agent_memory.buffer_as_str.strip()\n",
        "  question = {\"input\": question, \"chat_history\": memory}\n",
        "  result = run_bq_result.invoke(query_output.invoke(question, config=config), config=config)\n",
        "  return result.strip()"
      ],
      "metadata": {
        "id": "xJ8UAYRKYC_j"
      },
      "execution_count": null,
      "outputs": []
    },
    {
      "cell_type": "code",
      "source": [
        "from langchain.agents import AgentType, initialize_agent, AgentExecutor\n",
        "\n",
        "agent_kwgards = {\"system_message\": AGENT_PROMPT}\n",
        "agent_tools = [math_tool, user_question_tool]\n",
        "\n",
        "agent_memory.clear()\n",
        "\n",
        "# Fill the missing options\n",
        "agent = initialize_agent(\n",
        "    ### TODO\n",
        "    ### TODO\n",
        "    ### TODO\n",
        "    agent_kwgards=agent_kwgards,\n",
        "    max_iterations=5,\n",
        "    early_stopping_method='generate',\n",
        "    verbose=True)"
      ],
      "metadata": {
        "id": "lkKHQn3baaEi"
      },
      "execution_count": null,
      "outputs": []
    },
    {
      "cell_type": "code",
      "source": [
        "q = \"Which countries had more houses damaged? Give me the top 3\"\n",
        "agent.invoke(x)"
      ],
      "metadata": {
        "id": "q0aM6V9BY6dv",
        "collapsed": true
      },
      "execution_count": null,
      "outputs": []
    },
    {
      "cell_type": "code",
      "source": [
        "agent_memory"
      ],
      "metadata": {
        "id": "d5oWeXVzZG1z",
        "collapsed": true
      },
      "execution_count": null,
      "outputs": []
    },
    {
      "cell_type": "code",
      "source": [
        "q = \"Of those countries, which one had more deaths?\"\n",
        "agent.invoke(q)"
      ],
      "metadata": {
        "id": "JlSyWZzTbnbG",
        "collapsed": true
      },
      "execution_count": null,
      "outputs": []
    }
  ]
}